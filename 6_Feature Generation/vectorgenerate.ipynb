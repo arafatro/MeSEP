{
  "nbformat": 4,
  "nbformat_minor": 0,
  "metadata": {
    "colab": {
      "name": "vectorgenerate.ipynb",
      "provenance": []
    },
    "kernelspec": {
      "name": "python3",
      "display_name": "Python 3"
    }
  },
  "cells": [
    {
      "cell_type": "code",
      "metadata": {
        "id": "wNWqZdkGoJ2L"
      },
      "source": [
        "from google.colab import drive\n",
        "drive.mount('/content/drive')"
      ],
      "execution_count": null,
      "outputs": []
    },
    {
      "cell_type": "code",
      "metadata": {
        "id": "WF24Lq1UcceM"
      },
      "source": [
        "import numpy as np\n",
        "import pandas as pd\n",
        "import sys\n",
        "import numpy.ma as ma\n",
        "import os\n",
        "\n",
        "folder = '/content/drive/My Drive/Colab Notebooks/x pssm'\n",
        "filepaths = [os.path.join(folder, f) for f in os.listdir(folder)]\n",
        "Length = (len(filepaths))\n",
        "\n",
        "file = '/content/drive/My Drive/Colab Notebooks/x pssm/PSSM.'\n",
        "\n",
        "res_vec = np.zeros((Length,210))\n",
        "for v in range(1, Length+1):\n",
        "    num = str(v)\n",
        "    pos = file + num\n",
        "    \n",
        "    positive = []\n",
        "    with open(pos, 'r', encoding=\"utf-8\",errors='ignore') as f:\n",
        "        for line in f:\n",
        "            positive.append(line.split())\n",
        "\n",
        "\n",
        "        \n",
        "    data = positive[2:-6]\n",
        "    #positive[-7]\n",
        "\n",
        "    df = pd.DataFrame(data)\n",
        "    df.head()\n",
        "\n",
        "    df = df.iloc[1:,2:22]\n",
        "\n",
        "    XX = np.asarray(df)\n",
        "    YY = np.ascontiguousarray(XX, dtype=np.int32)\n",
        "\n",
        "    Transpose = YY.transpose()  #transpose pssm matrix [20*L]\n",
        "\n",
        "    M = np.zeros([Transpose.shape[0], Transpose.shape[1]])\n",
        "\n",
        "    for i in range(Transpose.shape[0]):\n",
        "        for j in range (Transpose.shape[1]):\n",
        "            M[i, j] = (Transpose[i,j] - np.mean(Transpose[i, :])) / np.std(Transpose[i, :])\n",
        "\n",
        "    transpose_M = M.transpose()\n",
        "\n",
        "\n",
        "    result = np.dot(M, transpose_M)\n",
        "\n",
        "\n",
        "\n",
        "    lower_tril = np.tril(result)\n",
        "\n",
        "    il1 = np.tril_indices(20)\n",
        "    remove_upper_value = lower_tril[il1]\n",
        "\n",
        "\n",
        "    Vector = np.ravel(remove_upper_value)\n",
        "    \n",
        "    \n",
        "    \n",
        "    array_vec = np.array(Vector)\n",
        "    res_vec[v-1] = array_vec\n",
        "    \n",
        "    \n",
        "    \n",
        "    np.savetxt('INPUT.csv', res_vec, delimiter=',', fmt='%.18e')"
      ],
      "execution_count": null,
      "outputs": []
    }
  ]
}