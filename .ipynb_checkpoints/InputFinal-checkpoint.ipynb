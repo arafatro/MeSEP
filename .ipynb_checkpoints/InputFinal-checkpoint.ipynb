{
 "cells": [
  {
   "cell_type": "code",
   "execution_count": 1,
   "metadata": {
    "colab": {
     "base_uri": "https://localhost:8080/"
    },
    "id": "E_tIqiVHNTiF",
    "outputId": "d62666d5-60ba-4817-e634-8266da64b3de"
   },
   "outputs": [
    {
     "name": "stdout",
     "output_type": "stream",
     "text": [
      "INPUT_Pos.csv    InputFinal.ipynb\r\n"
     ]
    }
   ],
   "source": [
    "!ls"
   ]
  },
  {
   "cell_type": "markdown",
   "metadata": {
    "id": "bCHDI8cMH9DA"
   },
   "source": [
    "## Global Imports"
   ]
  },
  {
   "cell_type": "code",
   "execution_count": 2,
   "metadata": {
    "colab": {
     "base_uri": "https://localhost:8080/"
    },
    "id": "dPjRWfl2_uqM",
    "outputId": "c306f1c2-49e0-425b-e6fa-26b0dcc12b7e"
   },
   "outputs": [
    {
     "name": "stdout",
     "output_type": "stream",
     "text": [
      "Requirement already satisfied: lightgbm in /Users/wakilahmad/opt/anaconda3/lib/python3.9/site-packages (3.3.2)\n",
      "Requirement already satisfied: scikit-learn!=0.22.0 in /Users/wakilahmad/opt/anaconda3/lib/python3.9/site-packages (from lightgbm) (0.24.2)\n",
      "Requirement already satisfied: wheel in /Users/wakilahmad/opt/anaconda3/lib/python3.9/site-packages (from lightgbm) (0.37.0)\n",
      "Requirement already satisfied: scipy in /Users/wakilahmad/opt/anaconda3/lib/python3.9/site-packages (from lightgbm) (1.7.1)\n",
      "Requirement already satisfied: numpy in /Users/wakilahmad/opt/anaconda3/lib/python3.9/site-packages (from lightgbm) (1.20.3)\n",
      "Requirement already satisfied: threadpoolctl>=2.0.0 in /Users/wakilahmad/opt/anaconda3/lib/python3.9/site-packages (from scikit-learn!=0.22.0->lightgbm) (2.2.0)\n",
      "Requirement already satisfied: joblib>=0.11 in /Users/wakilahmad/opt/anaconda3/lib/python3.9/site-packages (from scikit-learn!=0.22.0->lightgbm) (1.1.0)\n"
     ]
    }
   ],
   "source": [
    "!pip install lightgbm\n",
    "\n",
    "\n",
    "import numpy as np\n",
    "# import seaborn as sns\n",
    "# sns.set(color_codes=True)\n",
    "import matplotlib.pyplot as plt\n",
    "import pandas as pd\n",
    "\n",
    "from numpy.random import seed\n",
    "# from tensorflow import set_random_seed\n",
    "\n",
    "# from keras.layers import Input, Dropout\n",
    "# from keras.layers.core import Dense \n",
    "# from keras.models import Model, Sequential, load_model\n",
    "# from keras import regularizers\n",
    "\n",
    "seed(10)\n",
    "# set_random_seed(10)"
   ]
  },
  {
   "cell_type": "markdown",
   "metadata": {
    "id": "xm4cUnObIB1b"
   },
   "source": [
    "## Load Data"
   ]
  },
  {
   "cell_type": "code",
   "execution_count": 3,
   "metadata": {
    "colab": {
     "base_uri": "https://localhost:8080/"
    },
    "id": "bU-45Qi47YlJ",
    "outputId": "b3c59345-2001-4a56-8659-7fbdab82b542"
   },
   "outputs": [
    {
     "name": "stdout",
     "output_type": "stream",
     "text": [
      "INPUT_Pos.csv    InputFinal.ipynb\r\n"
     ]
    }
   ],
   "source": [
    "!ls"
   ]
  },
  {
   "cell_type": "code",
   "execution_count": 4,
   "metadata": {
    "colab": {
     "base_uri": "https://localhost:8080/"
    },
    "id": "Ovyd4Ddo_xeN",
    "outputId": "ddadc38a-d8a1-4958-a2e1-1597c9c5a85c"
   },
   "outputs": [
    {
     "data": {
      "text/plain": [
       "(26673, 211)"
      ]
     },
     "execution_count": 4,
     "metadata": {},
     "output_type": "execute_result"
    }
   ],
   "source": [
    "fileName = 'INPUT_Pos.csv'\n",
    "dataset = pd.read_csv(fileName, header=None, engine='python')\n",
    "dataset.shape"
   ]
  },
  {
   "cell_type": "code",
   "execution_count": 5,
   "metadata": {
    "colab": {
     "base_uri": "https://localhost:8080/",
     "height": 204
    },
    "id": "blh5qS7BABkB",
    "outputId": "d12dd585-c29c-4f62-f7d3-93bf8ccb1b08"
   },
   "outputs": [
    {
     "data": {
      "text/html": [
       "<div>\n",
       "<style scoped>\n",
       "    .dataframe tbody tr th:only-of-type {\n",
       "        vertical-align: middle;\n",
       "    }\n",
       "\n",
       "    .dataframe tbody tr th {\n",
       "        vertical-align: top;\n",
       "    }\n",
       "\n",
       "    .dataframe thead th {\n",
       "        text-align: right;\n",
       "    }\n",
       "</style>\n",
       "<table border=\"1\" class=\"dataframe\">\n",
       "  <thead>\n",
       "    <tr style=\"text-align: right;\">\n",
       "      <th></th>\n",
       "      <th>0</th>\n",
       "      <th>1</th>\n",
       "      <th>2</th>\n",
       "      <th>3</th>\n",
       "      <th>4</th>\n",
       "      <th>5</th>\n",
       "      <th>6</th>\n",
       "      <th>7</th>\n",
       "      <th>8</th>\n",
       "      <th>9</th>\n",
       "      <th>...</th>\n",
       "      <th>201</th>\n",
       "      <th>202</th>\n",
       "      <th>203</th>\n",
       "      <th>204</th>\n",
       "      <th>205</th>\n",
       "      <th>206</th>\n",
       "      <th>207</th>\n",
       "      <th>208</th>\n",
       "      <th>209</th>\n",
       "      <th>210</th>\n",
       "    </tr>\n",
       "  </thead>\n",
       "  <tbody>\n",
       "    <tr>\n",
       "      <th>0</th>\n",
       "      <td>25.0</td>\n",
       "      <td>-7.6200</td>\n",
       "      <td>25.0</td>\n",
       "      <td>-4.070</td>\n",
       "      <td>10.70</td>\n",
       "      <td>25.0</td>\n",
       "      <td>-2.06</td>\n",
       "      <td>1.860</td>\n",
       "      <td>15.2</td>\n",
       "      <td>25.0</td>\n",
       "      <td>...</td>\n",
       "      <td>-12.00</td>\n",
       "      <td>18.4</td>\n",
       "      <td>10.10</td>\n",
       "      <td>-3.84</td>\n",
       "      <td>-10.10</td>\n",
       "      <td>6.920</td>\n",
       "      <td>3.37</td>\n",
       "      <td>9.05</td>\n",
       "      <td>25.0</td>\n",
       "      <td>1</td>\n",
       "    </tr>\n",
       "    <tr>\n",
       "      <th>1</th>\n",
       "      <td>25.0</td>\n",
       "      <td>-10.2000</td>\n",
       "      <td>25.0</td>\n",
       "      <td>-11.200</td>\n",
       "      <td>11.20</td>\n",
       "      <td>25.0</td>\n",
       "      <td>-6.07</td>\n",
       "      <td>3.550</td>\n",
       "      <td>16.3</td>\n",
       "      <td>25.0</td>\n",
       "      <td>...</td>\n",
       "      <td>-17.10</td>\n",
       "      <td>18.2</td>\n",
       "      <td>20.40</td>\n",
       "      <td>-11.60</td>\n",
       "      <td>-13.90</td>\n",
       "      <td>8.020</td>\n",
       "      <td>6.08</td>\n",
       "      <td>16.00</td>\n",
       "      <td>25.0</td>\n",
       "      <td>1</td>\n",
       "    </tr>\n",
       "    <tr>\n",
       "      <th>2</th>\n",
       "      <td>25.0</td>\n",
       "      <td>-5.7900</td>\n",
       "      <td>25.0</td>\n",
       "      <td>2.110</td>\n",
       "      <td>9.63</td>\n",
       "      <td>25.0</td>\n",
       "      <td>1.36</td>\n",
       "      <td>4.580</td>\n",
       "      <td>20.4</td>\n",
       "      <td>25.0</td>\n",
       "      <td>...</td>\n",
       "      <td>-13.70</td>\n",
       "      <td>19.4</td>\n",
       "      <td>6.51</td>\n",
       "      <td>-5.10</td>\n",
       "      <td>-4.98</td>\n",
       "      <td>7.310</td>\n",
       "      <td>-3.83</td>\n",
       "      <td>1.25</td>\n",
       "      <td>25.0</td>\n",
       "      <td>1</td>\n",
       "    </tr>\n",
       "    <tr>\n",
       "      <th>3</th>\n",
       "      <td>25.0</td>\n",
       "      <td>-1.4900</td>\n",
       "      <td>25.0</td>\n",
       "      <td>-0.941</td>\n",
       "      <td>8.97</td>\n",
       "      <td>25.0</td>\n",
       "      <td>-2.13</td>\n",
       "      <td>1.880</td>\n",
       "      <td>16.0</td>\n",
       "      <td>25.0</td>\n",
       "      <td>...</td>\n",
       "      <td>-9.01</td>\n",
       "      <td>17.2</td>\n",
       "      <td>8.98</td>\n",
       "      <td>-6.04</td>\n",
       "      <td>-11.20</td>\n",
       "      <td>-0.559</td>\n",
       "      <td>6.83</td>\n",
       "      <td>5.77</td>\n",
       "      <td>25.0</td>\n",
       "      <td>1</td>\n",
       "    </tr>\n",
       "    <tr>\n",
       "      <th>4</th>\n",
       "      <td>25.0</td>\n",
       "      <td>-0.0711</td>\n",
       "      <td>25.0</td>\n",
       "      <td>-4.850</td>\n",
       "      <td>9.32</td>\n",
       "      <td>25.0</td>\n",
       "      <td>-5.97</td>\n",
       "      <td>-0.816</td>\n",
       "      <td>16.4</td>\n",
       "      <td>25.0</td>\n",
       "      <td>...</td>\n",
       "      <td>-10.70</td>\n",
       "      <td>16.6</td>\n",
       "      <td>12.90</td>\n",
       "      <td>-4.73</td>\n",
       "      <td>-7.83</td>\n",
       "      <td>5.500</td>\n",
       "      <td>-0.98</td>\n",
       "      <td>3.73</td>\n",
       "      <td>25.0</td>\n",
       "      <td>1</td>\n",
       "    </tr>\n",
       "  </tbody>\n",
       "</table>\n",
       "<p>5 rows × 211 columns</p>\n",
       "</div>"
      ],
      "text/plain": [
       "    0        1     2       3      4     5     6      7     8     9    ...  \\\n",
       "0  25.0  -7.6200  25.0  -4.070  10.70  25.0 -2.06  1.860  15.2  25.0  ...   \n",
       "1  25.0 -10.2000  25.0 -11.200  11.20  25.0 -6.07  3.550  16.3  25.0  ...   \n",
       "2  25.0  -5.7900  25.0   2.110   9.63  25.0  1.36  4.580  20.4  25.0  ...   \n",
       "3  25.0  -1.4900  25.0  -0.941   8.97  25.0 -2.13  1.880  16.0  25.0  ...   \n",
       "4  25.0  -0.0711  25.0  -4.850   9.32  25.0 -5.97 -0.816  16.4  25.0  ...   \n",
       "\n",
       "     201   202    203    204    205    206   207    208   209  210  \n",
       "0 -12.00  18.4  10.10  -3.84 -10.10  6.920  3.37   9.05  25.0    1  \n",
       "1 -17.10  18.2  20.40 -11.60 -13.90  8.020  6.08  16.00  25.0    1  \n",
       "2 -13.70  19.4   6.51  -5.10  -4.98  7.310 -3.83   1.25  25.0    1  \n",
       "3  -9.01  17.2   8.98  -6.04 -11.20 -0.559  6.83   5.77  25.0    1  \n",
       "4 -10.70  16.6  12.90  -4.73  -7.83  5.500 -0.98   3.73  25.0    1  \n",
       "\n",
       "[5 rows x 211 columns]"
      ]
     },
     "execution_count": 5,
     "metadata": {},
     "output_type": "execute_result"
    }
   ],
   "source": [
    "dataset.head(5)"
   ]
  },
  {
   "cell_type": "code",
   "execution_count": 6,
   "metadata": {
    "colab": {
     "base_uri": "https://localhost:8080/",
     "height": 35
    },
    "id": "H-5MJQ9WAEcw",
    "outputId": "23768bc6-e3cb-42f8-e7db-53faffe33668"
   },
   "outputs": [
    {
     "data": {
      "text/plain": [
       "True"
      ]
     },
     "execution_count": 6,
     "metadata": {},
     "output_type": "execute_result"
    }
   ],
   "source": [
    "dataset.isnull().any().any()"
   ]
  },
  {
   "cell_type": "code",
   "execution_count": 7,
   "metadata": {},
   "outputs": [],
   "source": [
    "dataset.fillna(1, inplace=True)"
   ]
  },
  {
   "cell_type": "code",
   "execution_count": 8,
   "metadata": {},
   "outputs": [
    {
     "data": {
      "text/plain": [
       "False"
      ]
     },
     "execution_count": 8,
     "metadata": {},
     "output_type": "execute_result"
    }
   ],
   "source": [
    "dataset.isnull().any().any()"
   ]
  },
  {
   "cell_type": "code",
   "execution_count": 9,
   "metadata": {
    "id": "gpB8Q7I5AG1f"
   },
   "outputs": [],
   "source": [
    "shortCol = []\n",
    "columns = dataset.columns.tolist()\n",
    "for i in columns:\n",
    "  if(dataset[i].nunique() != 1):\n",
    "    shortCol.append(i)\n",
    "    #print(i, \": \", dataset[i].nunique())"
   ]
  },
  {
   "cell_type": "code",
   "execution_count": 10,
   "metadata": {
    "colab": {
     "base_uri": "https://localhost:8080/",
     "height": 35
    },
    "id": "hzrNM0j7AhMc",
    "outputId": "bc828a7e-abf9-4111-8d53-22f63cb19a70"
   },
   "outputs": [
    {
     "data": {
      "text/plain": [
       "(26673, 211)"
      ]
     },
     "execution_count": 10,
     "metadata": {},
     "output_type": "execute_result"
    }
   ],
   "source": [
    "ttl_data = dataset.iloc[:, shortCol].values\n",
    "np.random.shuffle(ttl_data)\n",
    "ttl_data.shape"
   ]
  },
  {
   "cell_type": "code",
   "execution_count": 11,
   "metadata": {
    "colab": {
     "base_uri": "https://localhost:8080/",
     "height": 35
    },
    "id": "3z0UR4iqB-xW",
    "outputId": "36c2fe76-6f9d-4135-d920-bbbd959f13aa"
   },
   "outputs": [
    {
     "data": {
      "text/plain": [
       "(12646, 211)"
      ]
     },
     "execution_count": 11,
     "metadata": {},
     "output_type": "execute_result"
    }
   ],
   "source": [
    "ttl_data[ttl_data[:, -1] == 1].shape"
   ]
  },
  {
   "cell_type": "code",
   "execution_count": 12,
   "metadata": {
    "colab": {
     "base_uri": "https://localhost:8080/",
     "height": 35
    },
    "id": "XrW_tX5SCTs7",
    "outputId": "50a2b833-c03d-4304-8094-903068d1689c"
   },
   "outputs": [
    {
     "data": {
      "text/plain": [
       "(14027, 211)"
      ]
     },
     "execution_count": 12,
     "metadata": {},
     "output_type": "execute_result"
    }
   ],
   "source": [
    "ttl_data[ttl_data[:, -1] == 0].shape"
   ]
  },
  {
   "cell_type": "markdown",
   "metadata": {
    "id": "0CxY9dnMIJxw"
   },
   "source": [
    "## Separate Positives & Negatives"
   ]
  },
  {
   "cell_type": "code",
   "execution_count": 13,
   "metadata": {
    "id": "awQBfTsLOGC0"
   },
   "outputs": [],
   "source": [
    "pos = ttl_data[ttl_data[:, -1] == 1]\n",
    "np.random.shuffle(pos)\n",
    "neg = ttl_data[ttl_data[:, -1] == 0]\n",
    "np.random.shuffle(neg)"
   ]
  },
  {
   "cell_type": "code",
   "execution_count": 14,
   "metadata": {
    "id": "mzb8dXu2ZIAV"
   },
   "outputs": [],
   "source": [
    "### auto-encoder data ###\n",
    "\n",
    "# tstSize = 150\n",
    "# p_test = pos[0:tstSize, ...]\n",
    "# n_test, n_train = neg[0:tstSize, ...], neg[tstSize:, ...]\n",
    "# test = np.vstack((p_test, n_test))\n",
    "# np.random.shuffle(test)\n",
    "# X_train, X_test, y_train, y_test = n_train[:, :-1], test[:, :-1], n_train[:, -1], test[:, -1]"
   ]
  },
  {
   "cell_type": "markdown",
   "metadata": {
    "id": "-hiLmz7VITCx"
   },
   "source": [
    "## Train-Test Split"
   ]
  },
  {
   "cell_type": "code",
   "execution_count": 15,
   "metadata": {
    "id": "0cKGf-NcTM-i"
   },
   "outputs": [],
   "source": [
    "tstSize = 8002\n",
    "p_test, p_train = pos[0:tstSize, ...], pos[tstSize:, ...]\n",
    "n_test, n_train = neg[0:tstSize, ...], neg[tstSize:, ...]\n",
    "train, test = np.vstack((p_train, n_train)), np.vstack((p_test, n_test))\n",
    "np.random.shuffle(train)\n",
    "np.random.shuffle(test)\n",
    "X_train, X_test, y_train, y_test = train[:, :-1], test[:, :-1], train[:, -1], test[:, -1]"
   ]
  },
  {
   "cell_type": "code",
   "execution_count": 16,
   "metadata": {
    "colab": {
     "base_uri": "https://localhost:8080/",
     "height": 143
    },
    "id": "W7B1W7IoSgf-",
    "outputId": "98b9ff3e-380b-4eeb-d050-c07bfcad56a0"
   },
   "outputs": [
    {
     "name": "stdout",
     "output_type": "stream",
     "text": [
      "(10669,)\n",
      "(4644,)\n",
      "(6025,)\n",
      "------------------------------------------------------------\n",
      "(16004,)\n",
      "(8002,)\n",
      "(8002,)\n"
     ]
    }
   ],
   "source": [
    "\n",
    "print(y_train.shape)\n",
    "print(y_train[y_train == 1].shape)\n",
    "print(y_train[y_train == 0].shape)\n",
    "\n",
    "print('-'*60)\n",
    "\n",
    "print(y_test.shape)\n",
    "print(y_test[y_test == 1].shape)\n",
    "print(y_test[y_test == 0].shape)"
   ]
  },
  {
   "cell_type": "markdown",
   "metadata": {
    "id": "WV4IUwp2IjSA"
   },
   "source": [
    "## Scaling Data"
   ]
  },
  {
   "cell_type": "code",
   "execution_count": 17,
   "metadata": {
    "id": "M_N8YwSDKksX"
   },
   "outputs": [],
   "source": [
    "from sklearn.preprocessing import StandardScaler\n",
    "sc = StandardScaler()\n",
    "X_train = sc.fit_transform(X_train)\n",
    "X_test = sc.transform(X_test)"
   ]
  },
  {
   "cell_type": "markdown",
   "metadata": {
    "id": "xsqNsTzdIaEI"
   },
   "source": [
    "## Balance Data"
   ]
  },
  {
   "cell_type": "code",
   "execution_count": 18,
   "metadata": {
    "id": "nzh6ViPYTBkS"
   },
   "outputs": [],
   "source": [
    "### direct undersampling ###\n",
    "\n",
    "# tstSize = 100\n",
    "# p_test, p_train = pos[0:tstSize, ...], pos[tstSize:, ...]\n",
    "# n_test, n_train = neg[0:tstSize, ...], neg[tstSize:tstSize+p_train.shape[0], ...]\n",
    "# train, test = np.vstack((p_train, n_train)), np.vstack((p_test, n_test))\n",
    "# np.random.shuffle(train)\n",
    "# np.random.shuffle(test)\n",
    "# X_train, X_test, y_train, y_test = train[:, :-1], test[:, :-1], train[:, -1], test[:, -1]"
   ]
  },
  {
   "cell_type": "code",
   "execution_count": 19,
   "metadata": {
    "id": "5Szo35X9p9zr"
   },
   "outputs": [],
   "source": [
    "# from imblearn.under_sampling import TomekLinks\n",
    "# tl = TomekLinks(sampling_strategy='auto')\n",
    "# #tl = TomekLinks(sampling_strategy='all')\n",
    "# X_train_res, y_train_res = tl.fit_resample(X_train, y_train)"
   ]
  },
  {
   "cell_type": "code",
   "execution_count": 20,
   "metadata": {
    "id": "HDt26tgeq304"
   },
   "outputs": [],
   "source": [
    "# from imblearn.over_sampling import SVMSMOTE\n",
    "# X_train_res, y_train_res = SVMSMOTE().fit_resample(X_train_res, y_train_res)"
   ]
  },
  {
   "cell_type": "code",
   "execution_count": 21,
   "metadata": {
    "id": "vxU22ywGjDch",
    "scrolled": true
   },
   "outputs": [],
   "source": [
    "from imblearn.under_sampling import ClusterCentroids\n",
    "X_train_res, y_train_res = ClusterCentroids(sampling_strategy='auto').fit_resample(X_train, y_train)"
   ]
  },
  {
   "cell_type": "code",
   "execution_count": 22,
   "metadata": {
    "id": "_3tomy9pCgtg"
   },
   "outputs": [],
   "source": [
    "# from imblearn.over_sampling import SVMSMOTE\n",
    "# X_train_res, y_train_res = SVMSMOTE().fit_resample(X_train, y_train)"
   ]
  },
  {
   "cell_type": "code",
   "execution_count": 23,
   "metadata": {
    "id": "k4Bn7y_eoXdF"
   },
   "outputs": [],
   "source": [
    "# from imblearn.under_sampling import TomekLinks\n",
    "# tl = TomekLinks(sampling_strategy='all')\n",
    "# X_train_res, y_train_res = tl.fit_resample(X_train_res, y_train_res)"
   ]
  },
  {
   "cell_type": "code",
   "execution_count": 24,
   "metadata": {
    "colab": {
     "base_uri": "https://localhost:8080/",
     "height": 71
    },
    "id": "FzB0gP2DElYH",
    "outputId": "96e861a2-dc72-4ec4-d613-0b29c190a08b"
   },
   "outputs": [
    {
     "name": "stdout",
     "output_type": "stream",
     "text": [
      "(9288,)\n",
      "(4644,)\n",
      "(4644,)\n"
     ]
    }
   ],
   "source": [
    "print(y_train_res.shape)\n",
    "print(y_train_res[y_train_res == 1].shape)\n",
    "print(y_train_res[y_train_res == 0].shape)"
   ]
  },
  {
   "cell_type": "markdown",
   "metadata": {
    "id": "gUa_II6OIuRG"
   },
   "source": [
    "## RUS & CUS Boost"
   ]
  },
  {
   "cell_type": "code",
   "execution_count": 25,
   "metadata": {
    "id": "X9-Ots6bW-_L"
   },
   "outputs": [],
   "source": [
    "# from imblearn.ensemble import RUSBoostClassifier\n",
    "# clf = RUSBoostClassifier(random_state=42)\n",
    "# clf.fit(X_train, y_train)\n",
    "\n",
    "# y_pred = clf.predict(X_test)\n",
    "\n",
    "# from sklearn.metrics import accuracy_score, confusion_matrix, f1_score\n",
    "# acc = accuracy_score(y_test, y_pred)\n",
    "# print(\"accuracy: \", acc)\n",
    "# print()\n",
    "\n",
    "# f1 = f1_score(y_test, y_pred, average='binary')\n",
    "# print(\"f1_score: \", f1)\n",
    "# print()\n",
    "\n",
    "# cm = confusion_matrix(y_test, y_pred)\n",
    "# print(\"Confusion Matrix\")\n",
    "# print(cm)"
   ]
  },
  {
   "cell_type": "code",
   "execution_count": 26,
   "metadata": {
    "id": "LX1cnuYWX2s6"
   },
   "outputs": [],
   "source": [
    "# ### https://github.com/farshidrayhanuiu/CUSBoost ###\n",
    "\n",
    "# from CUSBoost import CUSBoostClassifier\n",
    "# clf = CUSBoostClassifier(depth=20, n_estimators=20)\n",
    "# clf.fit(X_train, y_train)\n",
    "\n",
    "# y_pred, _ = clf.predict(X_test)\n",
    "\n",
    "# from sklearn.metrics import accuracy_score, confusion_matrix, f1_score\n",
    "# acc = accuracy_score(y_test, y_pred)\n",
    "# print(\"accuracy: \", acc)\n",
    "# print()\n",
    "\n",
    "# f1 = f1_score(y_test, y_pred, average='binary')\n",
    "# print(\"f1_score: \", f1)\n",
    "# print()\n",
    "\n",
    "# cm = confusion_matrix(y_test, y_pred)\n",
    "# print(\"Confusion Matrix\")\n",
    "# print(cm)"
   ]
  },
  {
   "cell_type": "markdown",
   "metadata": {
    "id": "bvTtYiyoJB8Y"
   },
   "source": [
    "## SVM"
   ]
  },
  {
   "cell_type": "code",
   "execution_count": 27,
   "metadata": {
    "colab": {
     "base_uri": "https://localhost:8080/",
     "height": 287
    },
    "id": "ud92o9RVoTaS",
    "outputId": "4b155c51-4984-4f31-bfaf-519c898ed86b"
   },
   "outputs": [
    {
     "name": "stdout",
     "output_type": "stream",
     "text": [
      "accuracy:  0.8227318170457386\n",
      "\n",
      "f1_score:  0.8093798293354835\n",
      "\n",
      "Confusion Matrix\n",
      "[[7144  858]\n",
      " [1979 6023]]\n",
      "------------------------------------------------------------\n",
      "accuracy:  0.8272306923269183\n",
      "\n",
      "f1_score:  0.8094023574825946\n",
      "\n",
      "Confusion Matrix\n",
      "[[7368  634]\n",
      " [2131 5871]]\n"
     ]
    }
   ],
   "source": [
    "from sklearn.svm import SVC, SVR\n",
    "\n",
    "regr = SVR(kernel='rbf', gamma='scale', C=1.0, epsilon=0.2)\n",
    "regr.fit(X_train_res, y_train_res)\n",
    "\n",
    "y_pred = regr.predict(X_test)\n",
    "y_pred = np.where(y_pred > 0.50, 1, 0)\n",
    "\n",
    "from sklearn.metrics import accuracy_score, confusion_matrix, f1_score\n",
    "acc = accuracy_score(y_test, y_pred)\n",
    "print(\"accuracy: \", acc)\n",
    "print()\n",
    "\n",
    "f1 = f1_score(y_test, y_pred, average='binary')\n",
    "print(\"f1_score: \", f1)\n",
    "print()\n",
    "\n",
    "cm = confusion_matrix(y_test, y_pred)\n",
    "print(\"Confusion Matrix\")\n",
    "print(cm)\n",
    "\n",
    "print('-'*60)\n",
    "\n",
    "clf = SVC(kernel='rbf', gamma='scale')\n",
    "clf.fit(X_train_res, y_train_res)\n",
    "\n",
    "y_pred = clf.predict(X_test)\n",
    "\n",
    "from sklearn.metrics import accuracy_score, confusion_matrix, f1_score\n",
    "acc = accuracy_score(y_test, y_pred)\n",
    "print(\"accuracy: \", acc)\n",
    "print()\n",
    "\n",
    "f1 = f1_score(y_test, y_pred, average='binary')\n",
    "print(\"f1_score: \", f1)\n",
    "print()\n",
    "\n",
    "cm = confusion_matrix(y_test, y_pred)\n",
    "print(\"Confusion Matrix\")\n",
    "print(cm)"
   ]
  },
  {
   "cell_type": "markdown",
   "metadata": {
    "id": "ZVW5gF3hJEJx"
   },
   "source": [
    "## XGBoost"
   ]
  },
  {
   "cell_type": "code",
   "execution_count": 28,
   "metadata": {
    "colab": {
     "base_uri": "https://localhost:8080/",
     "height": 631
    },
    "id": "uJVKKNZhuRPj",
    "outputId": "90ec9438-be3e-483f-cca7-5c5f03c59ec0"
   },
   "outputs": [
    {
     "name": "stdout",
     "output_type": "stream",
     "text": [
      "accuracy:  0.803424143964009\n",
      "\n",
      "f1_score:  0.7982039769082746\n",
      "\n",
      "Confusion Matrix\n",
      "[[6636 1366]\n",
      " [1780 6222]]\n",
      "------------------------------------------------------------\n",
      "accuracy:  0.8022994251437141\n",
      "\n",
      "f1_score:  0.7700581395348838\n",
      "\n",
      "Confusion Matrix\n",
      "[[7542  460]\n",
      " [2704 5298]]\n",
      "------------------------------------------------------------\n",
      "accuracy:  0.8102349412646839\n",
      "\n",
      "f1_score:  0.8008393993048724\n",
      "\n",
      "Confusion Matrix\n",
      "[[6861 1141]\n",
      " [1896 6106]]\n",
      "------------------------------------------------------------\n",
      "accuracy:  0.8019870032491877\n",
      "\n",
      "f1_score:  0.769611050527081\n",
      "\n",
      "Confusion Matrix\n",
      "[[7542  460]\n",
      " [2709 5293]]\n"
     ]
    }
   ],
   "source": [
    "from xgboost import XGBClassifier, XGBRegressor, XGBRFClassifier, XGBRFRegressor\n",
    "\n",
    "regr = XGBRegressor(n_estimators=300)\n",
    "regr.fit(X_train_res, y_train_res)\n",
    "\n",
    "y_pred = regr.predict(X_test)\n",
    "y_pred = np.where(y_pred > 0.50, 1, 0)\n",
    "\n",
    "from sklearn.metrics import accuracy_score, confusion_matrix, f1_score\n",
    "acc = accuracy_score(y_test, y_pred)\n",
    "print(\"accuracy: \", acc)\n",
    "print()\n",
    "\n",
    "f1 = f1_score(y_test, y_pred, average='binary')\n",
    "print(\"f1_score: \", f1)\n",
    "print()\n",
    "\n",
    "cm = confusion_matrix(y_test, y_pred)\n",
    "print(\"Confusion Matrix\")\n",
    "print(cm)\n",
    "\n",
    "print('-'*60)\n",
    "\n",
    "regr = XGBRFRegressor()\n",
    "regr.fit(X_train_res, y_train_res)\n",
    "\n",
    "y_pred = regr.predict(X_test)\n",
    "y_pred = np.where(y_pred > 0.50, 1, 0)\n",
    "\n",
    "from sklearn.metrics import accuracy_score, confusion_matrix, f1_score\n",
    "acc = accuracy_score(y_test, y_pred)\n",
    "print(\"accuracy: \", acc)\n",
    "print()\n",
    "\n",
    "f1 = f1_score(y_test, y_pred, average='binary')\n",
    "print(\"f1_score: \", f1)\n",
    "print()\n",
    "\n",
    "cm = confusion_matrix(y_test, y_pred)\n",
    "print(\"Confusion Matrix\")\n",
    "print(cm)\n",
    "\n",
    "print('-'*60)\n",
    "\n",
    "clf = XGBClassifier()\n",
    "clf.fit(X_train_res, y_train_res)\n",
    "\n",
    "y_pred = clf.predict(X_test)\n",
    "\n",
    "from sklearn.metrics import accuracy_score, confusion_matrix, f1_score\n",
    "acc = accuracy_score(y_test, y_pred)\n",
    "print(\"accuracy: \", acc)\n",
    "print()\n",
    "\n",
    "f1 = f1_score(y_test, y_pred, average='binary')\n",
    "print(\"f1_score: \", f1)\n",
    "print()\n",
    "\n",
    "cm = confusion_matrix(y_test, y_pred)\n",
    "print(\"Confusion Matrix\")\n",
    "print(cm)\n",
    "\n",
    "print('-'*60)\n",
    "\n",
    "clf = XGBRFClassifier()\n",
    "clf.fit(X_train_res, y_train_res)\n",
    "\n",
    "y_pred = clf.predict(X_test)\n",
    "\n",
    "from sklearn.metrics import accuracy_score, confusion_matrix, f1_score\n",
    "acc = accuracy_score(y_test, y_pred)\n",
    "print(\"accuracy: \", acc)\n",
    "print()\n",
    "\n",
    "f1 = f1_score(y_test, y_pred, average='binary')\n",
    "print(\"f1_score: \", f1)\n",
    "print()\n",
    "\n",
    "cm = confusion_matrix(y_test, y_pred)\n",
    "print(\"Confusion Matrix\")\n",
    "print(cm)"
   ]
  },
  {
   "cell_type": "markdown",
   "metadata": {
    "id": "8P4ps-cIJHYp"
   },
   "source": [
    "## AdaBoost"
   ]
  },
  {
   "cell_type": "code",
   "execution_count": 29,
   "metadata": {
    "colab": {
     "base_uri": "https://localhost:8080/",
     "height": 143
    },
    "id": "1FJKxWp_XV5R",
    "outputId": "304e219f-6441-4f14-d0f8-0c2ce31340c3"
   },
   "outputs": [
    {
     "name": "stdout",
     "output_type": "stream",
     "text": [
      "accuracy:  0.8019870032491877\n",
      "\n",
      "f1_score:  0.769611050527081\n",
      "\n",
      "Confusion Matrix\n",
      "[[7542  460]\n",
      " [2709 5293]]\n"
     ]
    }
   ],
   "source": [
    "from sklearn.ensemble import AdaBoostClassifier\n",
    "\n",
    "boost = AdaBoostClassifier(n_estimators=300)\n",
    "boost.fit(X_train_res, y_train_res)\n",
    "\n",
    "y_pred = clf.predict(X_test)\n",
    "\n",
    "from sklearn.metrics import accuracy_score, confusion_matrix, f1_score\n",
    "acc = accuracy_score(y_test, y_pred)\n",
    "print(\"accuracy: \", acc)\n",
    "print()\n",
    "\n",
    "f1 = f1_score(y_test, y_pred, average='binary')\n",
    "print(\"f1_score: \", f1)\n",
    "print()\n",
    "\n",
    "cm = confusion_matrix(y_test, y_pred)\n",
    "print(\"Confusion Matrix\")\n",
    "print(cm)"
   ]
  },
  {
   "cell_type": "markdown",
   "metadata": {
    "id": "qK1uBGYhJKfr"
   },
   "source": [
    "## RandomForest"
   ]
  },
  {
   "cell_type": "code",
   "execution_count": 30,
   "metadata": {
    "colab": {
     "base_uri": "https://localhost:8080/",
     "height": 287
    },
    "id": "m0mfER4dX-a1",
    "outputId": "6a524dcb-ac8b-4a65-f74e-7b4e4fd09e4f"
   },
   "outputs": [
    {
     "name": "stdout",
     "output_type": "stream",
     "text": [
      "accuracy:  0.773056735816046\n",
      "\n",
      "f1_score:  0.7302436125965539\n",
      "\n",
      "Confusion Matrix\n",
      "[[7456  546]\n",
      " [3086 4916]]\n",
      "------------------------------------------------------------\n",
      "accuracy:  0.7524993751562109\n",
      "\n",
      "f1_score:  0.6710952420493232\n",
      "\n",
      "Confusion Matrix\n",
      "[[8002    0]\n",
      " [3961 4041]]\n"
     ]
    }
   ],
   "source": [
    "from sklearn.ensemble import RandomForestRegressor, RandomForestClassifier\n",
    "\n",
    "regr = RandomForestRegressor(max_depth=2, random_state=0, n_estimators=300)\n",
    "regr.fit(X_train_res, y_train_res)\n",
    "\n",
    "y_pred = regr.predict(X_test)\n",
    "y_pred = np.where(y_pred > 0.50, 1, 0)\n",
    "\n",
    "from sklearn.metrics import accuracy_score, confusion_matrix, f1_score\n",
    "acc = accuracy_score(y_test, y_pred)\n",
    "print(\"accuracy: \", acc)\n",
    "print()\n",
    "\n",
    "f1 = f1_score(y_test, y_pred, average='binary')\n",
    "print(\"f1_score: \", f1)\n",
    "print()\n",
    "\n",
    "cm = confusion_matrix(y_test, y_pred)\n",
    "print(\"Confusion Matrix\")\n",
    "print(cm)\n",
    "\n",
    "print('-'*60)\n",
    "\n",
    "clf = RandomForestClassifier(max_depth=2, random_state=0, n_estimators=300)\n",
    "clf.fit(X_train_res, y_train_res)\n",
    "\n",
    "y_pred = clf.predict(X_test)\n",
    "\n",
    "from sklearn.metrics import accuracy_score, confusion_matrix, f1_score\n",
    "acc = accuracy_score(y_test, y_pred)\n",
    "print(\"accuracy: \", acc)\n",
    "print()\n",
    "\n",
    "f1 = f1_score(y_test, y_pred, average='binary')\n",
    "print(\"f1_score: \", f1)\n",
    "print()\n",
    "\n",
    "cm = confusion_matrix(y_test, y_pred)\n",
    "print(\"Confusion Matrix\")\n",
    "print(cm)"
   ]
  },
  {
   "cell_type": "markdown",
   "metadata": {
    "id": "NRneEx1aPDwF"
   },
   "source": [
    "## LightGBM"
   ]
  },
  {
   "cell_type": "code",
   "execution_count": 38,
   "metadata": {
    "colab": {
     "base_uri": "https://localhost:8080/",
     "height": 287
    },
    "id": "HhBgPeyPPDT6",
    "outputId": "481ab001-45b3-4b40-8ffe-3b41dba68209"
   },
   "outputs": [
    {
     "ename": "OSError",
     "evalue": "dlopen(/Users/wakilahmad/opt/anaconda3/lib/python3.9/site-packages/lightgbm/lib_lightgbm.so, 6): Library not loaded: /usr/local/opt/libomp/lib/libomp.dylib\n  Referenced from: /Users/wakilahmad/opt/anaconda3/lib/python3.9/site-packages/lightgbm/lib_lightgbm.so\n  Reason: image not found",
     "output_type": "error",
     "traceback": [
      "\u001b[0;31m---------------------------------------------------------------------------\u001b[0m",
      "\u001b[0;31mOSError\u001b[0m                                   Traceback (most recent call last)",
      "\u001b[0;32m/var/folders/bz/ghqqnzyn4r7g7r3ypg9343640000gn/T/ipykernel_19714/198927713.py\u001b[0m in \u001b[0;36m<module>\u001b[0;34m\u001b[0m\n\u001b[0;32m----> 1\u001b[0;31m \u001b[0;32mimport\u001b[0m \u001b[0mlightgbm\u001b[0m \u001b[0;32mas\u001b[0m \u001b[0mlgb\u001b[0m\u001b[0;34m\u001b[0m\u001b[0;34m\u001b[0m\u001b[0m\n\u001b[0m\u001b[1;32m      2\u001b[0m \u001b[0;32mfrom\u001b[0m \u001b[0mlightgbm\u001b[0m \u001b[0;32mimport\u001b[0m \u001b[0mLGBMRegressor\u001b[0m\u001b[0;34m,\u001b[0m \u001b[0mLGBMClassifier\u001b[0m\u001b[0;34m\u001b[0m\u001b[0;34m\u001b[0m\u001b[0m\n\u001b[1;32m      3\u001b[0m \u001b[0;34m\u001b[0m\u001b[0m\n\u001b[1;32m      4\u001b[0m \u001b[0mregr\u001b[0m \u001b[0;34m=\u001b[0m \u001b[0mLGBMRegressor\u001b[0m\u001b[0;34m(\u001b[0m\u001b[0mnum_leaves\u001b[0m\u001b[0;34m=\u001b[0m\u001b[0;36m31\u001b[0m\u001b[0;34m,\u001b[0m \u001b[0mn_estimators\u001b[0m\u001b[0;34m=\u001b[0m\u001b[0;36m40\u001b[0m\u001b[0;34m,\u001b[0m \u001b[0mlearning_rate\u001b[0m\u001b[0;34m=\u001b[0m\u001b[0;36m0.1\u001b[0m\u001b[0;34m)\u001b[0m\u001b[0;34m\u001b[0m\u001b[0;34m\u001b[0m\u001b[0m\n\u001b[1;32m      5\u001b[0m \u001b[0mregr\u001b[0m\u001b[0;34m.\u001b[0m\u001b[0mfit\u001b[0m\u001b[0;34m(\u001b[0m\u001b[0mX_train_res\u001b[0m\u001b[0;34m,\u001b[0m \u001b[0my_train_res\u001b[0m\u001b[0;34m)\u001b[0m\u001b[0;34m\u001b[0m\u001b[0;34m\u001b[0m\u001b[0m\n",
      "\u001b[0;32m~/opt/anaconda3/lib/python3.9/site-packages/lightgbm/__init__.py\u001b[0m in \u001b[0;36m<module>\u001b[0;34m\u001b[0m\n\u001b[1;32m      6\u001b[0m \u001b[0;32mfrom\u001b[0m \u001b[0mpathlib\u001b[0m \u001b[0;32mimport\u001b[0m \u001b[0mPath\u001b[0m\u001b[0;34m\u001b[0m\u001b[0;34m\u001b[0m\u001b[0m\n\u001b[1;32m      7\u001b[0m \u001b[0;34m\u001b[0m\u001b[0m\n\u001b[0;32m----> 8\u001b[0;31m \u001b[0;32mfrom\u001b[0m \u001b[0;34m.\u001b[0m\u001b[0mbasic\u001b[0m \u001b[0;32mimport\u001b[0m \u001b[0mBooster\u001b[0m\u001b[0;34m,\u001b[0m \u001b[0mDataset\u001b[0m\u001b[0;34m,\u001b[0m \u001b[0mSequence\u001b[0m\u001b[0;34m,\u001b[0m \u001b[0mregister_logger\u001b[0m\u001b[0;34m\u001b[0m\u001b[0;34m\u001b[0m\u001b[0m\n\u001b[0m\u001b[1;32m      9\u001b[0m \u001b[0;32mfrom\u001b[0m \u001b[0;34m.\u001b[0m\u001b[0mcallback\u001b[0m \u001b[0;32mimport\u001b[0m \u001b[0mearly_stopping\u001b[0m\u001b[0;34m,\u001b[0m \u001b[0mlog_evaluation\u001b[0m\u001b[0;34m,\u001b[0m \u001b[0mprint_evaluation\u001b[0m\u001b[0;34m,\u001b[0m \u001b[0mrecord_evaluation\u001b[0m\u001b[0;34m,\u001b[0m \u001b[0mreset_parameter\u001b[0m\u001b[0;34m\u001b[0m\u001b[0;34m\u001b[0m\u001b[0m\n\u001b[1;32m     10\u001b[0m \u001b[0;32mfrom\u001b[0m \u001b[0;34m.\u001b[0m\u001b[0mengine\u001b[0m \u001b[0;32mimport\u001b[0m \u001b[0mCVBooster\u001b[0m\u001b[0;34m,\u001b[0m \u001b[0mcv\u001b[0m\u001b[0;34m,\u001b[0m \u001b[0mtrain\u001b[0m\u001b[0;34m\u001b[0m\u001b[0;34m\u001b[0m\u001b[0m\n",
      "\u001b[0;32m~/opt/anaconda3/lib/python3.9/site-packages/lightgbm/basic.py\u001b[0m in \u001b[0;36m<module>\u001b[0;34m\u001b[0m\n\u001b[1;32m    108\u001b[0m \u001b[0;34m\u001b[0m\u001b[0m\n\u001b[1;32m    109\u001b[0m \u001b[0;34m\u001b[0m\u001b[0m\n\u001b[0;32m--> 110\u001b[0;31m \u001b[0m_LIB\u001b[0m \u001b[0;34m=\u001b[0m \u001b[0m_load_lib\u001b[0m\u001b[0;34m(\u001b[0m\u001b[0;34m)\u001b[0m\u001b[0;34m\u001b[0m\u001b[0;34m\u001b[0m\u001b[0m\n\u001b[0m\u001b[1;32m    111\u001b[0m \u001b[0;34m\u001b[0m\u001b[0m\n\u001b[1;32m    112\u001b[0m \u001b[0;34m\u001b[0m\u001b[0m\n",
      "\u001b[0;32m~/opt/anaconda3/lib/python3.9/site-packages/lightgbm/basic.py\u001b[0m in \u001b[0;36m_load_lib\u001b[0;34m()\u001b[0m\n\u001b[1;32m     99\u001b[0m     \u001b[0;32mif\u001b[0m \u001b[0mlen\u001b[0m\u001b[0;34m(\u001b[0m\u001b[0mlib_path\u001b[0m\u001b[0;34m)\u001b[0m \u001b[0;34m==\u001b[0m \u001b[0;36m0\u001b[0m\u001b[0;34m:\u001b[0m\u001b[0;34m\u001b[0m\u001b[0;34m\u001b[0m\u001b[0m\n\u001b[1;32m    100\u001b[0m         \u001b[0;32mreturn\u001b[0m \u001b[0;32mNone\u001b[0m\u001b[0;34m\u001b[0m\u001b[0;34m\u001b[0m\u001b[0m\n\u001b[0;32m--> 101\u001b[0;31m     \u001b[0mlib\u001b[0m \u001b[0;34m=\u001b[0m \u001b[0mctypes\u001b[0m\u001b[0;34m.\u001b[0m\u001b[0mcdll\u001b[0m\u001b[0;34m.\u001b[0m\u001b[0mLoadLibrary\u001b[0m\u001b[0;34m(\u001b[0m\u001b[0mlib_path\u001b[0m\u001b[0;34m[\u001b[0m\u001b[0;36m0\u001b[0m\u001b[0;34m]\u001b[0m\u001b[0;34m)\u001b[0m\u001b[0;34m\u001b[0m\u001b[0;34m\u001b[0m\u001b[0m\n\u001b[0m\u001b[1;32m    102\u001b[0m     \u001b[0mlib\u001b[0m\u001b[0;34m.\u001b[0m\u001b[0mLGBM_GetLastError\u001b[0m\u001b[0;34m.\u001b[0m\u001b[0mrestype\u001b[0m \u001b[0;34m=\u001b[0m \u001b[0mctypes\u001b[0m\u001b[0;34m.\u001b[0m\u001b[0mc_char_p\u001b[0m\u001b[0;34m\u001b[0m\u001b[0;34m\u001b[0m\u001b[0m\n\u001b[1;32m    103\u001b[0m     \u001b[0mcallback\u001b[0m \u001b[0;34m=\u001b[0m \u001b[0mctypes\u001b[0m\u001b[0;34m.\u001b[0m\u001b[0mCFUNCTYPE\u001b[0m\u001b[0;34m(\u001b[0m\u001b[0;32mNone\u001b[0m\u001b[0;34m,\u001b[0m \u001b[0mctypes\u001b[0m\u001b[0;34m.\u001b[0m\u001b[0mc_char_p\u001b[0m\u001b[0;34m)\u001b[0m\u001b[0;34m\u001b[0m\u001b[0;34m\u001b[0m\u001b[0m\n",
      "\u001b[0;32m~/opt/anaconda3/lib/python3.9/ctypes/__init__.py\u001b[0m in \u001b[0;36mLoadLibrary\u001b[0;34m(self, name)\u001b[0m\n\u001b[1;32m    458\u001b[0m \u001b[0;34m\u001b[0m\u001b[0m\n\u001b[1;32m    459\u001b[0m     \u001b[0;32mdef\u001b[0m \u001b[0mLoadLibrary\u001b[0m\u001b[0;34m(\u001b[0m\u001b[0mself\u001b[0m\u001b[0;34m,\u001b[0m \u001b[0mname\u001b[0m\u001b[0;34m)\u001b[0m\u001b[0;34m:\u001b[0m\u001b[0;34m\u001b[0m\u001b[0;34m\u001b[0m\u001b[0m\n\u001b[0;32m--> 460\u001b[0;31m         \u001b[0;32mreturn\u001b[0m \u001b[0mself\u001b[0m\u001b[0;34m.\u001b[0m\u001b[0m_dlltype\u001b[0m\u001b[0;34m(\u001b[0m\u001b[0mname\u001b[0m\u001b[0;34m)\u001b[0m\u001b[0;34m\u001b[0m\u001b[0;34m\u001b[0m\u001b[0m\n\u001b[0m\u001b[1;32m    461\u001b[0m \u001b[0;34m\u001b[0m\u001b[0m\n\u001b[1;32m    462\u001b[0m     \u001b[0m__class_getitem__\u001b[0m \u001b[0;34m=\u001b[0m \u001b[0mclassmethod\u001b[0m\u001b[0;34m(\u001b[0m\u001b[0m_types\u001b[0m\u001b[0;34m.\u001b[0m\u001b[0mGenericAlias\u001b[0m\u001b[0;34m)\u001b[0m\u001b[0;34m\u001b[0m\u001b[0;34m\u001b[0m\u001b[0m\n",
      "\u001b[0;32m~/opt/anaconda3/lib/python3.9/ctypes/__init__.py\u001b[0m in \u001b[0;36m__init__\u001b[0;34m(self, name, mode, handle, use_errno, use_last_error, winmode)\u001b[0m\n\u001b[1;32m    380\u001b[0m \u001b[0;34m\u001b[0m\u001b[0m\n\u001b[1;32m    381\u001b[0m         \u001b[0;32mif\u001b[0m \u001b[0mhandle\u001b[0m \u001b[0;32mis\u001b[0m \u001b[0;32mNone\u001b[0m\u001b[0;34m:\u001b[0m\u001b[0;34m\u001b[0m\u001b[0;34m\u001b[0m\u001b[0m\n\u001b[0;32m--> 382\u001b[0;31m             \u001b[0mself\u001b[0m\u001b[0;34m.\u001b[0m\u001b[0m_handle\u001b[0m \u001b[0;34m=\u001b[0m \u001b[0m_dlopen\u001b[0m\u001b[0;34m(\u001b[0m\u001b[0mself\u001b[0m\u001b[0;34m.\u001b[0m\u001b[0m_name\u001b[0m\u001b[0;34m,\u001b[0m \u001b[0mmode\u001b[0m\u001b[0;34m)\u001b[0m\u001b[0;34m\u001b[0m\u001b[0;34m\u001b[0m\u001b[0m\n\u001b[0m\u001b[1;32m    383\u001b[0m         \u001b[0;32melse\u001b[0m\u001b[0;34m:\u001b[0m\u001b[0;34m\u001b[0m\u001b[0;34m\u001b[0m\u001b[0m\n\u001b[1;32m    384\u001b[0m             \u001b[0mself\u001b[0m\u001b[0;34m.\u001b[0m\u001b[0m_handle\u001b[0m \u001b[0;34m=\u001b[0m \u001b[0mhandle\u001b[0m\u001b[0;34m\u001b[0m\u001b[0;34m\u001b[0m\u001b[0m\n",
      "\u001b[0;31mOSError\u001b[0m: dlopen(/Users/wakilahmad/opt/anaconda3/lib/python3.9/site-packages/lightgbm/lib_lightgbm.so, 6): Library not loaded: /usr/local/opt/libomp/lib/libomp.dylib\n  Referenced from: /Users/wakilahmad/opt/anaconda3/lib/python3.9/site-packages/lightgbm/lib_lightgbm.so\n  Reason: image not found"
     ]
    }
   ],
   "source": [
    "from lightgbm import LGBMRegressor, LGBMClassifier\n",
    "\n",
    "regr = LGBMRegressor(num_leaves=31, n_estimators=40, learning_rate=0.1)\n",
    "regr.fit(X_train_res, y_train_res)\n",
    "\n",
    "y_pred = regr.predict(X_test)\n",
    "y_pred = np.where(y_pred > 0.50, 1, 0)\n",
    "\n",
    "from sklearn.metrics import accuracy_score, confusion_matrix, f1_score\n",
    "acc = accuracy_score(y_test, y_pred)\n",
    "print(\"accuracy: \", acc)\n",
    "print()\n",
    "\n",
    "f1 = f1_score(y_test, y_pred, average='binary')\n",
    "print(\"f1_score: \", f1)\n",
    "print()\n",
    "\n",
    "cm = confusion_matrix(y_test, y_pred)\n",
    "print(\"Confusion Matrix\")\n",
    "print(cm)\n",
    "\n",
    "print('-'*60)\n",
    "\n",
    "clf = LGBMClassifier(num_leaves=31, n_estimators=40, learning_rate=0.1)\n",
    "clf.fit(X_train_res, y_train_res)\n",
    "\n",
    "y_pred = clf.predict(X_test)\n",
    "\n",
    "from sklearn.metrics import accuracy_score, confusion_matrix, f1_score\n",
    "acc = accuracy_score(y_test, y_pred)\n",
    "print(\"accuracy: \", acc)\n",
    "print()\n",
    "\n",
    "f1 = f1_score(y_test, y_pred, average='binary')\n",
    "print(\"f1_score: \", f1)\n",
    "print()\n",
    "\n",
    "cm = confusion_matrix(y_test, y_pred)\n",
    "print(\"Confusion Matrix\")\n",
    "print(cm)"
   ]
  },
  {
   "cell_type": "markdown",
   "metadata": {
    "id": "pkPDDppcJOGn"
   },
   "source": [
    "## AutoEncoder"
   ]
  },
  {
   "cell_type": "code",
   "execution_count": null,
   "metadata": {
    "id": "TidRyZatIr-4"
   },
   "outputs": [],
   "source": [
    "# act_func = 'elu'\n",
    "\n",
    "\n",
    "# model=Sequential()\n",
    "\n",
    "# model.add(Dense(10,activation=act_func,\n",
    "#                 kernel_initializer='glorot_uniform',\n",
    "#                 kernel_regularizer=regularizers.l2(0.0),\n",
    "#                 input_shape=(X_train.shape[1],)\n",
    "#                )\n",
    "#          )\n",
    "\n",
    "# model.add(Dense(2,activation=act_func,\n",
    "#                 kernel_initializer='glorot_uniform'))\n",
    "\n",
    "# model.add(Dense(10,activation=act_func,\n",
    "#                 kernel_initializer='glorot_uniform'))\n",
    "\n",
    "# model.add(Dense(X_train.shape[1],\n",
    "#                 kernel_initializer='glorot_uniform'))\n",
    "\n",
    "# model.compile(loss='mse',optimizer='adam')\n",
    "\n",
    "\n",
    "# NUM_EPOCHS=100\n",
    "# BATCH_SIZE=16"
   ]
  },
  {
   "cell_type": "code",
   "execution_count": null,
   "metadata": {
    "id": "9rYp1K4RIv0h"
   },
   "outputs": [],
   "source": [
    "# history=model.fit(np.array(X_train),np.array(X_train),\n",
    "#                   batch_size=BATCH_SIZE, \n",
    "#                   epochs=NUM_EPOCHS,\n",
    "#                   validation_split=0.05,\n",
    "#                   verbose = 1)\n",
    "\n",
    "# plt.plot(history.history['loss'],\n",
    "#          'b',\n",
    "#          label='Training loss')\n",
    "# plt.plot(history.history['val_loss'],\n",
    "#          'r',\n",
    "#          label='Validation loss')\n",
    "# plt.legend(loc='upper right')\n",
    "# plt.xlabel('Epochs')\n",
    "# plt.ylabel('Loss, [mse]')\n",
    "# plt.ylim([0,.1])\n",
    "# plt.show()"
   ]
  },
  {
   "cell_type": "code",
   "execution_count": null,
   "metadata": {
    "id": "4VrB1qRYfGyg"
   },
   "outputs": [],
   "source": [
    "# X_train = pd.DataFrame(X_train, columns=None)\n",
    "# X_test = pd.DataFrame(X_test, columns=None)\n",
    "# X_pred = model.predict(np.array(X_train))\n",
    "# X_pred = pd.DataFrame(X_pred, \n",
    "#                       columns=X_train.columns)\n",
    "# X_pred.index = X_train.index\n",
    "\n",
    "# scored = pd.DataFrame(index=X_train.index)\n",
    "# scored['Loss_mae'] = np.mean(np.abs(X_pred-X_train), axis = 1)\n",
    "# plt.figure()\n",
    "# sns.distplot(scored['Loss_mae'],\n",
    "#              bins = 10, \n",
    "#              kde= True,\n",
    "#             color = 'blue');\n",
    "# plt.xlim([0.3,6.7])"
   ]
  },
  {
   "cell_type": "code",
   "execution_count": null,
   "metadata": {
    "id": "BvOG0Yb1JFuF"
   },
   "outputs": [],
   "source": [
    "# X_pred = model.predict(np.array(X_test))\n",
    "# X_pred = pd.DataFrame(X_pred, columns=None)\n",
    "# X_pred.index = X_test.index\n",
    "\n",
    "# scored = pd.DataFrame(index=X_test.index)\n",
    "# scored['Loss_mae'] = np.mean(np.abs(X_pred-X_test), axis = 1)\n",
    "# lo_thrs = 2.4\n",
    "# up_thrs = 4\n",
    "# scored['Anomaly'] = ((scored['Loss_mae'] < lo_thrs)|(scored['Loss_mae'] > up_thrs))\n",
    "# scored.head(10)"
   ]
  },
  {
   "cell_type": "code",
   "execution_count": null,
   "metadata": {
    "id": "1bOtuJRfJHJz"
   },
   "outputs": [],
   "source": [
    "# X_pred_train = model.predict(np.array(X_train))\n",
    "# X_pred_train = pd.DataFrame(X_pred_train, \n",
    "#                       columns=X_train.columns)\n",
    "# X_pred_train.index = X_train.index\n",
    "\n",
    "# scored_train = pd.DataFrame(index=X_train.index)\n",
    "# scored_train['Loss_mae'] = np.mean(np.abs(X_pred_train-X_train), axis = 1)\n",
    "# scored_train['Threshold'] = 0.9\n",
    "# scored_train['Anomaly'] = scored_train['Loss_mae'] > scored_train['Threshold']\n",
    "# scored = pd.concat([scored_train, scored])"
   ]
  },
  {
   "cell_type": "code",
   "execution_count": null,
   "metadata": {
    "id": "QcEvfUoCJMW-"
   },
   "outputs": [],
   "source": [
    "# scored.plot(logy=True,  figsize = (10,6), ylim = [1e-2,1e2], color = ['blue','red'])"
   ]
  },
  {
   "cell_type": "code",
   "execution_count": null,
   "metadata": {
    "id": "7CTrI5MOebe_"
   },
   "outputs": [],
   "source": [
    "# y_pred = scored.iloc[:, -1].values"
   ]
  },
  {
   "cell_type": "code",
   "execution_count": null,
   "metadata": {
    "id": "9jTMn074e1IX"
   },
   "outputs": [],
   "source": [
    "# from sklearn.metrics import accuracy_score, confusion_matrix, f1_score\n",
    "# acc = accuracy_score(y_test, y_pred)\n",
    "# print(\"accuracy: \", acc)\n",
    "# print()\n",
    "\n",
    "# f1 = f1_score(y_test, y_pred, average='binary')\n",
    "# print(\"f1_score: \", f1)\n",
    "# print()\n",
    "\n",
    "# cm = confusion_matrix(y_test, y_pred)\n",
    "# print(\"Confusion Matrix\")\n",
    "# print(cm)"
   ]
  },
  {
   "cell_type": "markdown",
   "metadata": {
    "id": "pbuYsNfoJWTa"
   },
   "source": [
    "## Cross Validation"
   ]
  },
  {
   "cell_type": "code",
   "execution_count": null,
   "metadata": {},
   "outputs": [],
   "source": [
    "##RepeatedKFold KFold"
   ]
  },
  {
   "cell_type": "code",
   "execution_count": 74,
   "metadata": {},
   "outputs": [
    {
     "name": "stderr",
     "output_type": "stream",
     "text": [
      "/Users/wakilahmad/opt/anaconda3/lib/python3.9/site-packages/sklearn/utils/validation.py:70: FutureWarning: Pass n_splits=SVC() as keyword args. From version 1.0 (renaming of 0.25) passing these as positional arguments will result in an error\n",
      "  warnings.warn(f\"Pass {args_msg} as keyword args. From version \"\n"
     ]
    },
    {
     "ename": "TypeError",
     "evalue": "__init__() got an unexpected keyword argument 'X'",
     "output_type": "error",
     "traceback": [
      "\u001b[0;31m---------------------------------------------------------------------------\u001b[0m",
      "\u001b[0;31mTypeError\u001b[0m                                 Traceback (most recent call last)",
      "\u001b[0;32m/var/folders/bz/ghqqnzyn4r7g7r3ypg9343640000gn/T/ipykernel_19714/136241558.py\u001b[0m in \u001b[0;36m<module>\u001b[0;34m\u001b[0m\n\u001b[1;32m      5\u001b[0m \u001b[0;34m\u001b[0m\u001b[0m\n\u001b[1;32m      6\u001b[0m \u001b[0;32mfrom\u001b[0m \u001b[0msklearn\u001b[0m\u001b[0;34m.\u001b[0m\u001b[0mmodel_selection\u001b[0m \u001b[0;32mimport\u001b[0m \u001b[0mRepeatedKFold\u001b[0m\u001b[0;34m\u001b[0m\u001b[0;34m\u001b[0m\u001b[0m\n\u001b[0;32m----> 7\u001b[0;31m \u001b[0maccuracies\u001b[0m \u001b[0;34m=\u001b[0m \u001b[0mRepeatedKFold\u001b[0m\u001b[0;34m(\u001b[0m\u001b[0mclassifier\u001b[0m\u001b[0;34m,\u001b[0m \u001b[0mX\u001b[0m \u001b[0;34m=\u001b[0m \u001b[0mX_train_res\u001b[0m\u001b[0;34m,\u001b[0m \u001b[0my\u001b[0m \u001b[0;34m=\u001b[0m \u001b[0my_train_res\u001b[0m\u001b[0;34m,\u001b[0m \u001b[0mcv\u001b[0m \u001b[0;34m=\u001b[0m \u001b[0;36m10\u001b[0m\u001b[0;34m)\u001b[0m\u001b[0;34m\u001b[0m\u001b[0;34m\u001b[0m\u001b[0m\n\u001b[0m\u001b[1;32m      8\u001b[0m \u001b[0mprint\u001b[0m\u001b[0;34m(\u001b[0m\u001b[0;34m\"***CROSS VALIDATION***\"\u001b[0m\u001b[0;34m)\u001b[0m\u001b[0;34m\u001b[0m\u001b[0;34m\u001b[0m\u001b[0m\n\u001b[1;32m      9\u001b[0m \u001b[0mprint\u001b[0m\u001b[0;34m(\u001b[0m\u001b[0maccuracies\u001b[0m\u001b[0;34m)\u001b[0m\u001b[0;34m\u001b[0m\u001b[0;34m\u001b[0m\u001b[0m\n",
      "\u001b[0;32m~/opt/anaconda3/lib/python3.9/site-packages/sklearn/utils/validation.py\u001b[0m in \u001b[0;36minner_f\u001b[0;34m(*args, **kwargs)\u001b[0m\n\u001b[1;32m     72\u001b[0m                           \"will result in an error\", FutureWarning)\n\u001b[1;32m     73\u001b[0m             \u001b[0mkwargs\u001b[0m\u001b[0;34m.\u001b[0m\u001b[0mupdate\u001b[0m\u001b[0;34m(\u001b[0m\u001b[0mzip\u001b[0m\u001b[0;34m(\u001b[0m\u001b[0msig\u001b[0m\u001b[0;34m.\u001b[0m\u001b[0mparameters\u001b[0m\u001b[0;34m,\u001b[0m \u001b[0margs\u001b[0m\u001b[0;34m)\u001b[0m\u001b[0;34m)\u001b[0m\u001b[0;34m\u001b[0m\u001b[0;34m\u001b[0m\u001b[0m\n\u001b[0;32m---> 74\u001b[0;31m             \u001b[0;32mreturn\u001b[0m \u001b[0mf\u001b[0m\u001b[0;34m(\u001b[0m\u001b[0;34m**\u001b[0m\u001b[0mkwargs\u001b[0m\u001b[0;34m)\u001b[0m\u001b[0;34m\u001b[0m\u001b[0;34m\u001b[0m\u001b[0m\n\u001b[0m\u001b[1;32m     75\u001b[0m         \u001b[0;32mreturn\u001b[0m \u001b[0minner_f\u001b[0m\u001b[0;34m\u001b[0m\u001b[0;34m\u001b[0m\u001b[0m\n\u001b[1;32m     76\u001b[0m \u001b[0;34m\u001b[0m\u001b[0m\n",
      "\u001b[0;31mTypeError\u001b[0m: __init__() got an unexpected keyword argument 'X'"
     ]
    }
   ],
   "source": [
    "from sklearn.svm import SVC, SVR\n",
    "\n",
    "classifier = SVC(kernel='rbf', gamma='scale')\n",
    "classifier.fit(X_train_res, y_train_res)\n",
    "\n",
    "from sklearn.model_selection import RepeatedKFold\n",
    "accuracies = RepeatedKFold(classifier, X_train_res, y_train_res, cv = 10)\n",
    "print(\"***CROSS VALIDATION***\")\n",
    "print(accuracies)\n",
    "print(\"accuracy: \", accuracies.mean())\n",
    "print(accuracies.std())"
   ]
  },
  {
   "cell_type": "markdown",
   "metadata": {
    "id": "EFv8cdtz6-SI"
   },
   "source": [
    "##Feature Importances"
   ]
  },
  {
   "cell_type": "code",
   "execution_count": 39,
   "metadata": {
    "colab": {
     "base_uri": "https://localhost:8080/",
     "height": 666
    },
    "id": "IdyxL1pv7E3g",
    "outputId": "426dda61-64ff-4f08-fb43-0c4279efac40"
   },
   "outputs": [
    {
     "data": {
      "image/png": "[encoded data removed]",
      "text/plain": [
       "<Figure size 10800x720 with 1 Axes>"
      ]
     },
     "metadata": {
      "needs_background": "light"
     },
     "output_type": "display_data"
    }
   ],
   "source": [
    "from sklearn.ensemble import ExtraTreesClassifier\n",
    "import matplotlib.pyplot as plt\n",
    "model = ExtraTreesClassifier()\n",
    "model.fit(X_train,y_train)\n",
    "feat_importances = model.feature_importances_\n",
    "indices = np.argsort(feat_importances)[::-1]\n",
    "plt.figure(figsize=(150, 10))\n",
    "plt.bar(range(X_train.shape[1]), feat_importances[indices], align=\"center\")\n",
    "plt.xticks(range(X_train.shape[1]), [\"col_\"+str(i) for i in indices])\n",
    "plt.xlim([-1, X_train.shape[1]])\n",
    "plt.xlabel('Features')\n",
    "plt.ylabel('Importances')\n",
    "plt.savefig(\"Feature Importances\", bbox_inches='tight')\n",
    "plt.show()"
   ]
  },
  {
   "cell_type": "code",
   "execution_count": null,
   "metadata": {
    "id": "xWA0QoDVYOu8"
   },
   "outputs": [],
   "source": [
    "\n",
    "# from sklearn.model_selection import KFold\n",
    "# kf = KFold(n_splits=10)\n",
    "# kf.get_n_splits(X)\n",
    "\n",
    "# for train_index, test_index in kf.split(X):\n",
    "#   X_train, X_test = X[train_index], X[test_index]\n",
    "#   y_train, y_test = y[train_index], y[test_index]"
   ]
  },
  {
   "cell_type": "code",
   "execution_count": null,
   "metadata": {
    "id": "pYxIZ7pJaDED"
   },
   "outputs": [],
   "source": [
    "# X, y = ttl_data[:, :-1], ttl_data[:, -1]\n",
    "\n",
    "# from sklearn.preprocessing import StandardScaler\n",
    "# X = StandardScaler().fit_transform(X)\n",
    "\n",
    "# from sklearn.ensemble import RandomForestRegressor, RandomForestClassifier\n",
    "# classifier = RandomForestClassifier(max_depth=2, random_state=10, n_estimators=300)\n",
    "# classifier.fit(X, y)\n",
    "\n",
    "# from sklearn.model_selection import cross_val_score\n",
    "# accuracies = cross_val_score(estimator = classifier, X = X_train, y = y_train, cv = 10)\n",
    "# print(accuracies)\n",
    "# print(accuracies.mean())\n",
    "# print(accuracies.std())"
   ]
  },
  {
   "cell_type": "markdown",
   "metadata": {
    "id": "6OSUVBw0prYi"
   },
   "source": [
    "##MLP neural_network"
   ]
  },
  {
   "cell_type": "code",
   "execution_count": 40,
   "metadata": {
    "colab": {
     "base_uri": "https://localhost:8080/",
     "height": 107
    },
    "id": "phgrZaKqprAZ",
    "outputId": "11af5bc9-9c04-4b82-c77f-fe38d8e57aee"
   },
   "outputs": [
    {
     "name": "stdout",
     "output_type": "stream",
     "text": [
      "***CROSS VALIDATION***\n",
      "[0.79332616 0.81377826 0.82131324 0.82346609 0.82992465 0.80409042\n",
      " 0.82884822 0.80516685 0.80926724 0.78987069]\n",
      "accuracy:  0.8119051816933298\n",
      "0.013347568860222226\n"
     ]
    }
   ],
   "source": [
    "from sklearn.neural_network import MLPClassifier\n",
    "clf = MLPClassifier(alpha=1, max_iter=1000)\n",
    "clf.fit(X_train, y_train)\n",
    "\n",
    "\n",
    "from sklearn.model_selection import cross_val_score\n",
    "accuracies = cross_val_score(estimator = clf, X = X_train_res, y = y_train_res, cv = 10)\n",
    "print(\"***CROSS VALIDATION***\")\n",
    "print(accuracies)\n",
    "print(\"accuracy: \", accuracies.mean())\n",
    "print(accuracies.std())\n",
    "\n"
   ]
  },
  {
   "cell_type": "code",
   "execution_count": 41,
   "metadata": {
    "colab": {
     "base_uri": "https://localhost:8080/",
     "height": 161
    },
    "id": "G5nvSp7dpqT2",
    "outputId": "01e70c88-4cfc-4f30-d9ef-44432f5055dd"
   },
   "outputs": [
    {
     "name": "stdout",
     "output_type": "stream",
     "text": [
      "***INDEPENDENT TEST***\n",
      "accuracy:  0.8186703324168958\n",
      "\n",
      "f1_score:  0.8025850340136055\n",
      "\n",
      "Confusion Matrix\n",
      "[[7203  799]\n",
      " [2103 5899]]\n"
     ]
    }
   ],
   "source": [
    "y_pred = clf.predict(X_test)\n",
    "\n",
    "from sklearn.metrics import accuracy_score, confusion_matrix, f1_score\n",
    "acc = accuracy_score(y_test, y_pred)\n",
    "print(\"***INDEPENDENT TEST***\")\n",
    "print(\"accuracy: \", acc)\n",
    "print()\n",
    "\n",
    "f1 = f1_score(y_test, y_pred, average='binary')\n",
    "print(\"f1_score: \", f1)\n",
    "print()\n",
    "\n",
    "cm = confusion_matrix(y_test, y_pred)\n",
    "print(\"Confusion Matrix\")\n",
    "print(cm)"
   ]
  },
  {
   "cell_type": "markdown",
   "metadata": {
    "id": "8g-ZrNAGf2v6"
   },
   "source": [
    "##Bagging methods"
   ]
  },
  {
   "cell_type": "code",
   "execution_count": 42,
   "metadata": {
    "colab": {
     "base_uri": "https://localhost:8080/",
     "height": 107
    },
    "id": "VtYFFJjgf2V7",
    "outputId": "19ae8d42-3f0a-422f-f284-99f6dc01cde3"
   },
   "outputs": [
    {
     "name": "stdout",
     "output_type": "stream",
     "text": [
      "***CROSS VALIDATION***\n",
      "[0.78256189 0.79763186 0.79547901 0.80409042 0.79763186 0.78363832\n",
      " 0.7868676  0.75780409 0.78448276 0.78017241]\n",
      "accuracy:  0.7870360231617237\n",
      "0.01235477574621484\n"
     ]
    }
   ],
   "source": [
    "from sklearn.ensemble import BaggingClassifier\n",
    "from sklearn.neighbors import KNeighborsClassifier\n",
    "bagging = BaggingClassifier(KNeighborsClassifier(), max_samples=0.5, max_features=0.5)\n",
    "bagging.fit(X_train_res, y_train_res)\n",
    "\n",
    "from sklearn.model_selection import cross_val_score\n",
    "accuracies = cross_val_score(estimator = bagging, X = X_train_res, y = y_train_res, cv = 10)\n",
    "print(\"***CROSS VALIDATION***\")\n",
    "print(accuracies)\n",
    "print(\"accuracy: \", accuracies.mean())\n",
    "print(accuracies.std())\n"
   ]
  },
  {
   "cell_type": "code",
   "execution_count": 43,
   "metadata": {
    "colab": {
     "base_uri": "https://localhost:8080/",
     "height": 161
    },
    "id": "rLmO4Eoxf12x",
    "outputId": "23a1cb47-ee68-49c4-b282-bc71b0388f40"
   },
   "outputs": [
    {
     "name": "stdout",
     "output_type": "stream",
     "text": [
      "***INDEPENDENT TEST***\n",
      "accuracy:  0.7976130967258186\n",
      "\n",
      "f1_score:  0.7808673296799945\n",
      "\n",
      "Confusion Matrix\n",
      "[[6994 1008]\n",
      " [2231 5771]]\n"
     ]
    }
   ],
   "source": [
    "y_pred = bagging.predict(X_test)\n",
    "\n",
    "from sklearn.metrics import accuracy_score, confusion_matrix, f1_score\n",
    "acc = accuracy_score(y_test, y_pred)\n",
    "print(\"***INDEPENDENT TEST***\")\n",
    "print(\"accuracy: \", acc)\n",
    "print()\n",
    "\n",
    "f1 = f1_score(y_test, y_pred, average='binary')\n",
    "print(\"f1_score: \", f1)\n",
    "print()\n",
    "\n",
    "cm = confusion_matrix(y_test, y_pred)\n",
    "print(\"Confusion Matrix\")\n",
    "print(cm)"
   ]
  },
  {
   "cell_type": "markdown",
   "metadata": {
    "id": "L4LwxTU5nW0x"
   },
   "source": [
    "##GradientBoosting"
   ]
  },
  {
   "cell_type": "code",
   "execution_count": 44,
   "metadata": {
    "colab": {
     "base_uri": "https://localhost:8080/",
     "height": 107
    },
    "id": "TN2eQQQenWfp",
    "outputId": "abb6e822-27a7-4c60-91ec-ef7e81ab7d80"
   },
   "outputs": [
    {
     "name": "stdout",
     "output_type": "stream",
     "text": [
      "***CROSS VALIDATION***\n",
      "[0.78363832 0.79870829 0.81054898 0.82561895 0.8073197  0.79547901\n",
      " 0.78902045 0.79870829 0.80926724 0.79741379]\n",
      "accuracy:  0.8015723015107085\n",
      "0.011406443697270768\n"
     ]
    }
   ],
   "source": [
    "from sklearn.ensemble import GradientBoostingClassifier\n",
    "clf = GradientBoostingClassifier(n_estimators=100, learning_rate=1.0, max_depth=1, random_state=0)\n",
    "clf.fit(X_train, y_train)\n",
    "\n",
    "\n",
    "from sklearn.model_selection import cross_val_score\n",
    "accuracies = cross_val_score(estimator = clf, X = X_train_res, y = y_train_res, cv = 10)\n",
    "print(\"***CROSS VALIDATION***\")\n",
    "print(accuracies)\n",
    "print(\"accuracy: \", accuracies.mean())\n",
    "print(accuracies.std())"
   ]
  },
  {
   "cell_type": "code",
   "execution_count": 45,
   "metadata": {
    "colab": {
     "base_uri": "https://localhost:8080/",
     "height": 161
    },
    "id": "QjJQPVstnWT8",
    "outputId": "74288027-8684-4a70-8642-fa74ee1cf0a2"
   },
   "outputs": [
    {
     "name": "stdout",
     "output_type": "stream",
     "text": [
      "***INDEPENDENT TEST***\n",
      "accuracy:  0.8129217695576106\n",
      "\n",
      "f1_score:  0.7913007109995818\n",
      "\n",
      "Confusion Matrix\n",
      "[[7334  668]\n",
      " [2326 5676]]\n"
     ]
    }
   ],
   "source": [
    "y_pred = clf.predict(X_test)\n",
    "\n",
    "from sklearn.metrics import accuracy_score, confusion_matrix, f1_score\n",
    "acc = accuracy_score(y_test, y_pred)\n",
    "print(\"***INDEPENDENT TEST***\")\n",
    "print(\"accuracy: \", acc)\n",
    "print()\n",
    "\n",
    "f1 = f1_score(y_test, y_pred, average='binary')\n",
    "print(\"f1_score: \", f1)\n",
    "print()\n",
    "\n",
    "cm = confusion_matrix(y_test, y_pred)\n",
    "print(\"Confusion Matrix\")\n",
    "print(cm)"
   ]
  },
  {
   "cell_type": "markdown",
   "metadata": {
    "id": "x5kolq6MlfCI"
   },
   "source": [
    "##ExtraTrees"
   ]
  },
  {
   "cell_type": "code",
   "execution_count": 46,
   "metadata": {
    "colab": {
     "base_uri": "https://localhost:8080/",
     "height": 107
    },
    "id": "5ZtMipeeletk",
    "outputId": "751c3d98-0736-42b6-a367-c862893b36b8"
   },
   "outputs": [
    {
     "name": "stdout",
     "output_type": "stream",
     "text": [
      "***CROSS VALIDATION***\n",
      "[0.78363832 0.7868676  0.76318622 0.80839612 0.79547901 0.79655544\n",
      " 0.79763186 0.79655544 0.8049569  0.79202586]\n",
      "accuracy:  0.7925292769384952\n",
      "0.01202385883086262\n"
     ]
    }
   ],
   "source": [
    "from sklearn.ensemble import ExtraTreesClassifier\n",
    "clf = ExtraTreesClassifier(n_estimators=10, max_depth=None, min_samples_split=2, random_state=0)\n",
    "clf.fit(X_train_res, y_train_res)\n",
    "\n",
    "from sklearn.model_selection import cross_val_score\n",
    "accuracies = cross_val_score(estimator = clf, X = X_train_res, y = y_train_res, cv = 10)\n",
    "print(\"***CROSS VALIDATION***\")\n",
    "print(accuracies)\n",
    "print(\"accuracy: \", accuracies.mean())\n",
    "print(accuracies.std())"
   ]
  },
  {
   "cell_type": "code",
   "execution_count": 47,
   "metadata": {
    "colab": {
     "base_uri": "https://localhost:8080/",
     "height": 161
    },
    "id": "J8UioNrXleaU",
    "outputId": "766bb839-aa61-4d8c-e0cb-44ff4b9d2097"
   },
   "outputs": [
    {
     "name": "stdout",
     "output_type": "stream",
     "text": [
      "***INDEPENDENT TEST***\n",
      "accuracy:  0.8009247688077981\n",
      "\n",
      "f1_score:  0.7779481460830777\n",
      "\n",
      "Confusion Matrix\n",
      "[[7237  765]\n",
      " [2421 5581]]\n"
     ]
    }
   ],
   "source": [
    "y_pred = clf.predict(X_test)\n",
    "\n",
    "from sklearn.metrics import accuracy_score, confusion_matrix, f1_score\n",
    "acc = accuracy_score(y_test, y_pred)\n",
    "print(\"***INDEPENDENT TEST***\")\n",
    "print(\"accuracy: \", acc)\n",
    "print()\n",
    "\n",
    "f1 = f1_score(y_test, y_pred, average='binary')\n",
    "print(\"f1_score: \", f1)\n",
    "print()\n",
    "\n",
    "cm = confusion_matrix(y_test, y_pred)\n",
    "print(\"Confusion Matrix\")\n",
    "print(cm)"
   ]
  },
  {
   "cell_type": "markdown",
   "metadata": {
    "id": "x8BWrmNziTOJ"
   },
   "source": [
    "##DT"
   ]
  },
  {
   "cell_type": "code",
   "execution_count": 48,
   "metadata": {
    "colab": {
     "base_uri": "https://localhost:8080/",
     "height": 107
    },
    "id": "lE7voNgaiS7_",
    "outputId": "b2b1277c-fc9f-489c-dd44-6c103a1f76b1"
   },
   "outputs": [
    {
     "name": "stdout",
     "output_type": "stream",
     "text": [
      "***CROSS VALIDATION***\n",
      "[0.77610334 0.79440258 0.78256189 0.78794403 0.79009688 0.78040904\n",
      " 0.79440258 0.7911733  0.80387931 0.78340517]\n",
      "accuracy:  0.7884378131843658\n",
      "0.007723538077391954\n"
     ]
    }
   ],
   "source": [
    "from sklearn.tree import DecisionTreeClassifier\n",
    "clf1 = DecisionTreeClassifier(max_depth=4)\n",
    "clf1.fit(X_train_res, y_train_res)\n",
    "\n",
    "from sklearn.model_selection import cross_val_score\n",
    "accuracies = cross_val_score(estimator = clf1, X = X_train_res, y = y_train_res, cv = 10)\n",
    "print(\"***CROSS VALIDATION***\")\n",
    "print(accuracies)\n",
    "print(\"accuracy: \", accuracies.mean())\n",
    "print(accuracies.std())"
   ]
  },
  {
   "cell_type": "code",
   "execution_count": 49,
   "metadata": {
    "colab": {
     "base_uri": "https://localhost:8080/",
     "height": 161
    },
    "id": "8XMbqvliiSmy",
    "outputId": "93c19180-ae4f-4b6c-e05d-43e2e9ef5ade"
   },
   "outputs": [
    {
     "name": "stdout",
     "output_type": "stream",
     "text": [
      "***INDEPENDENT TEST***\n",
      "accuracy:  0.7923019245188703\n",
      "\n",
      "f1_score:  0.7609321058688148\n",
      "\n",
      "Confusion Matrix\n",
      "[[7390  612]\n",
      " [2712 5290]]\n"
     ]
    }
   ],
   "source": [
    "y_pred = clf1.predict(X_test)\n",
    "\n",
    "from sklearn.metrics import accuracy_score, confusion_matrix, f1_score\n",
    "acc = accuracy_score(y_test, y_pred)\n",
    "print(\"***INDEPENDENT TEST***\")\n",
    "print(\"accuracy: \", acc)\n",
    "print()\n",
    "\n",
    "f1 = f1_score(y_test, y_pred, average='binary')\n",
    "print(\"f1_score: \", f1)\n",
    "print()\n",
    "\n",
    "cm = confusion_matrix(y_test, y_pred)\n",
    "print(\"Confusion Matrix\")\n",
    "print(cm)"
   ]
  },
  {
   "cell_type": "markdown",
   "metadata": {
    "id": "6HGr2VlmlQTo"
   },
   "source": [
    "##LDA"
   ]
  },
  {
   "cell_type": "code",
   "execution_count": 50,
   "metadata": {
    "colab": {
     "base_uri": "https://localhost:8080/",
     "height": 107
    },
    "id": "E0cIAbP4lPld",
    "outputId": "01f08583-5fbe-45a6-9afa-877860d589df"
   },
   "outputs": [
    {
     "name": "stdout",
     "output_type": "stream",
     "text": [
      "***CROSS VALIDATION***\n",
      "[0.82023681 0.82238967 0.81593111 0.82454252 0.81054898 0.80409042\n",
      " 0.81593111 0.79440258 0.81573276 0.80172414]\n",
      "accuracy:  0.812553009353773\n",
      "0.009245630902584586\n"
     ]
    }
   ],
   "source": [
    "from sklearn.discriminant_analysis import LinearDiscriminantAnalysis\n",
    "lda = LinearDiscriminantAnalysis(solver=\"svd\", store_covariance=True)\n",
    "lda.fit(X_train_res, y_train_res)\n",
    "\n",
    "from sklearn.model_selection import cross_val_score\n",
    "accuracies = cross_val_score(estimator = lda, X = X_train_res, y = y_train_res, cv = 10)\n",
    "print(\"***CROSS VALIDATION***\")\n",
    "print(accuracies)\n",
    "print(\"accuracy: \", accuracies.mean())\n",
    "print(accuracies.std())"
   ]
  },
  {
   "cell_type": "code",
   "execution_count": 51,
   "metadata": {
    "colab": {
     "base_uri": "https://localhost:8080/",
     "height": 161
    },
    "id": "af5xJ0n1lPVW",
    "outputId": "1e0c5904-976f-4ab9-b3bb-e4923e14f7d7"
   },
   "outputs": [
    {
     "name": "stdout",
     "output_type": "stream",
     "text": [
      "***INDEPENDENT TEST***\n",
      "accuracy:  0.8181704573856536\n",
      "\n",
      "f1_score:  0.7960470984020186\n",
      "\n",
      "Confusion Matrix\n",
      "[[7415  587]\n",
      " [2323 5679]]\n"
     ]
    }
   ],
   "source": [
    "y_pred = lda.predict(X_test)\n",
    "\n",
    "from sklearn.metrics import accuracy_score, confusion_matrix, f1_score\n",
    "acc = accuracy_score(y_test, y_pred)\n",
    "print(\"***INDEPENDENT TEST***\")\n",
    "print(\"accuracy: \", acc)\n",
    "print()\n",
    "\n",
    "f1 = f1_score(y_test, y_pred, average='binary')\n",
    "print(\"f1_score: \", f1)\n",
    "print()\n",
    "\n",
    "cm = confusion_matrix(y_test, y_pred)\n",
    "print(\"Confusion Matrix\")\n",
    "print(cm)"
   ]
  },
  {
   "cell_type": "markdown",
   "metadata": {
    "id": "uojy7Dokjgnf"
   },
   "source": [
    "##QDA"
   ]
  },
  {
   "cell_type": "code",
   "execution_count": 52,
   "metadata": {
    "colab": {
     "base_uri": "https://localhost:8080/",
     "height": 503
    },
    "id": "OGZnUICujgNV",
    "outputId": "7942f5eb-88f2-4d1a-901c-e3bb9a894259"
   },
   "outputs": [
    {
     "name": "stderr",
     "output_type": "stream",
     "text": [
      "/Users/wakilahmad/opt/anaconda3/lib/python3.9/site-packages/sklearn/discriminant_analysis.py:808: UserWarning: Variables are collinear\n",
      "  warnings.warn(\"Variables are collinear\")\n",
      "/Users/wakilahmad/opt/anaconda3/lib/python3.9/site-packages/sklearn/discriminant_analysis.py:808: UserWarning: Variables are collinear\n",
      "  warnings.warn(\"Variables are collinear\")\n",
      "/Users/wakilahmad/opt/anaconda3/lib/python3.9/site-packages/sklearn/discriminant_analysis.py:808: UserWarning: Variables are collinear\n",
      "  warnings.warn(\"Variables are collinear\")\n",
      "/Users/wakilahmad/opt/anaconda3/lib/python3.9/site-packages/sklearn/discriminant_analysis.py:808: UserWarning: Variables are collinear\n",
      "  warnings.warn(\"Variables are collinear\")\n",
      "/Users/wakilahmad/opt/anaconda3/lib/python3.9/site-packages/sklearn/discriminant_analysis.py:808: UserWarning: Variables are collinear\n",
      "  warnings.warn(\"Variables are collinear\")\n",
      "/Users/wakilahmad/opt/anaconda3/lib/python3.9/site-packages/sklearn/discriminant_analysis.py:808: UserWarning: Variables are collinear\n",
      "  warnings.warn(\"Variables are collinear\")\n",
      "/Users/wakilahmad/opt/anaconda3/lib/python3.9/site-packages/sklearn/discriminant_analysis.py:808: UserWarning: Variables are collinear\n",
      "  warnings.warn(\"Variables are collinear\")\n",
      "/Users/wakilahmad/opt/anaconda3/lib/python3.9/site-packages/sklearn/discriminant_analysis.py:808: UserWarning: Variables are collinear\n",
      "  warnings.warn(\"Variables are collinear\")\n",
      "/Users/wakilahmad/opt/anaconda3/lib/python3.9/site-packages/sklearn/discriminant_analysis.py:808: UserWarning: Variables are collinear\n",
      "  warnings.warn(\"Variables are collinear\")\n",
      "/Users/wakilahmad/opt/anaconda3/lib/python3.9/site-packages/sklearn/discriminant_analysis.py:808: UserWarning: Variables are collinear\n",
      "  warnings.warn(\"Variables are collinear\")\n"
     ]
    },
    {
     "name": "stdout",
     "output_type": "stream",
     "text": [
      "***CROSS VALIDATION***\n",
      "[0.49946179 0.49946179 0.49946179 0.49946179 0.50053821 0.50053821\n",
      " 0.50053821 0.50053821 0.5        0.5       ]\n",
      "accuracy:  0.5\n",
      "0.0004813924601721856\n"
     ]
    },
    {
     "name": "stderr",
     "output_type": "stream",
     "text": [
      "/Users/wakilahmad/opt/anaconda3/lib/python3.9/site-packages/sklearn/discriminant_analysis.py:808: UserWarning: Variables are collinear\n",
      "  warnings.warn(\"Variables are collinear\")\n"
     ]
    }
   ],
   "source": [
    "from sklearn.discriminant_analysis import QuadraticDiscriminantAnalysis\n",
    "qda = QuadraticDiscriminantAnalysis(store_covariance=True)\n",
    "qda.fit(X_train_res, y_train_res)\n",
    "\n",
    "from sklearn.model_selection import cross_val_score\n",
    "accuracies = cross_val_score(estimator = qda, X = X_train_res, y = y_train_res, cv = 10)\n",
    "print(\"***CROSS VALIDATION***\")\n",
    "print(accuracies)\n",
    "print(\"accuracy: \", accuracies.mean())\n",
    "print(accuracies.std())"
   ]
  },
  {
   "cell_type": "code",
   "execution_count": 53,
   "metadata": {
    "colab": {
     "base_uri": "https://localhost:8080/",
     "height": 161
    },
    "id": "xwZXOymgjf5Q",
    "outputId": "228f9f61-2a82-49ff-b310-fb8a8af5bb93"
   },
   "outputs": [
    {
     "name": "stdout",
     "output_type": "stream",
     "text": [
      "***INDEPENDENT TEST***\n",
      "accuracy:  0.5\n",
      "\n",
      "f1_score:  0.6666666666666666\n",
      "\n",
      "Confusion Matrix\n",
      "[[   0 8002]\n",
      " [   0 8002]]\n"
     ]
    }
   ],
   "source": [
    "y_pred = qda.predict(X_test)\n",
    "\n",
    "from sklearn.metrics import accuracy_score, confusion_matrix, f1_score\n",
    "acc = accuracy_score(y_test, y_pred)\n",
    "print(\"***INDEPENDENT TEST***\")\n",
    "print(\"accuracy: \", acc)\n",
    "print()\n",
    "\n",
    "f1 = f1_score(y_test, y_pred, average='binary')\n",
    "print(\"f1_score: \", f1)\n",
    "print()\n",
    "\n",
    "cm = confusion_matrix(y_test, y_pred)\n",
    "print(\"Confusion Matrix\")\n",
    "print(cm)"
   ]
  },
  {
   "cell_type": "markdown",
   "metadata": {
    "id": "KV9j52z4QVvq"
   },
   "source": [
    "##SVM"
   ]
  },
  {
   "cell_type": "code",
   "execution_count": 54,
   "metadata": {
    "colab": {
     "base_uri": "https://localhost:8080/",
     "height": 107
    },
    "id": "a3GhFt4xs6-_",
    "outputId": "fe5c5932-48c8-4b4b-c90a-49e03f011d68"
   },
   "outputs": [
    {
     "name": "stdout",
     "output_type": "stream",
     "text": [
      "***CROSS VALIDATION***\n",
      "[0.79009688 0.82561895 0.82238967 0.84068891 0.82346609 0.81593111\n",
      " 0.81700753 0.80624327 0.8200431  0.80818966]\n",
      "accuracy:  0.8169675169815523\n",
      "0.012782055754492497\n"
     ]
    }
   ],
   "source": [
    "from sklearn.svm import SVC, SVR\n",
    "\n",
    "classifier = SVC(kernel='rbf', gamma='scale')\n",
    "classifier.fit(X_train_res, y_train_res)\n",
    "\n",
    "from sklearn.model_selection import cross_val_score\n",
    "accuracies = cross_val_score(estimator = classifier, X = X_train_res, y = y_train_res, cv = 10)\n",
    "print(\"***CROSS VALIDATION***\")\n",
    "print(accuracies)\n",
    "print(\"accuracy: \", accuracies.mean())\n",
    "print(accuracies.std())"
   ]
  },
  {
   "cell_type": "code",
   "execution_count": 55,
   "metadata": {
    "colab": {
     "base_uri": "https://localhost:8080/",
     "height": 161
    },
    "id": "66VXh7UMtbRn",
    "outputId": "dfd43786-6245-45ee-9d2b-aac8df9bac34"
   },
   "outputs": [
    {
     "name": "stdout",
     "output_type": "stream",
     "text": [
      "***INDEPENDENT TEST***\n",
      "accuracy:  0.8272306923269183\n",
      "\n",
      "f1_score:  0.8094023574825946\n",
      "\n",
      "Confusion Matrix\n",
      "[[7368  634]\n",
      " [2131 5871]]\n"
     ]
    }
   ],
   "source": [
    "y_pred = classifier.predict(X_test)\n",
    "\n",
    "from sklearn.metrics import accuracy_score, confusion_matrix, f1_score\n",
    "acc = accuracy_score(y_test, y_pred)\n",
    "print(\"***INDEPENDENT TEST***\")\n",
    "print(\"accuracy: \", acc)\n",
    "print()\n",
    "\n",
    "f1 = f1_score(y_test, y_pred, average='binary')\n",
    "print(\"f1_score: \", f1)\n",
    "print()\n",
    "\n",
    "cm = confusion_matrix(y_test, y_pred)\n",
    "print(\"Confusion Matrix\")\n",
    "print(cm)"
   ]
  },
  {
   "cell_type": "markdown",
   "metadata": {
    "id": "6vWlAQSiQub3"
   },
   "source": [
    "##AdaBoost"
   ]
  },
  {
   "cell_type": "code",
   "execution_count": 56,
   "metadata": {
    "colab": {
     "base_uri": "https://localhost:8080/",
     "height": 107
    },
    "id": "scaNqndiOZGB",
    "outputId": "b22d2cd6-c258-4189-9724-f66a101998c8"
   },
   "outputs": [
    {
     "name": "stdout",
     "output_type": "stream",
     "text": [
      "***CROSS VALIDATION***\n",
      "[0.76749193 0.80086114 0.80947255 0.81377826 0.8116254  0.80086114\n",
      " 0.79763186 0.79978471 0.79202586 0.78987069]\n",
      "accuracy:  0.798340354849486\n",
      "0.01271722272079469\n"
     ]
    }
   ],
   "source": [
    "\n",
    "from sklearn.ensemble import AdaBoostClassifier\n",
    "\n",
    "boost = AdaBoostClassifier(n_estimators=300)\n",
    "boost.fit(X_train_res, y_train_res)\n",
    "\n",
    "from sklearn.model_selection import cross_val_score\n",
    "accuracies = cross_val_score(estimator = boost, X = X_train_res, y = y_train_res, cv = 10)\n",
    "print(\"***CROSS VALIDATION***\")\n",
    "print(accuracies)\n",
    "print(\"accuracy: \", accuracies.mean())\n",
    "print(accuracies.std())"
   ]
  },
  {
   "cell_type": "code",
   "execution_count": 57,
   "metadata": {
    "colab": {
     "base_uri": "https://localhost:8080/",
     "height": 161
    },
    "id": "NlHYp_wkOY3P",
    "outputId": "a25a4f30-c494-488f-d9cf-409e8335e0b9"
   },
   "outputs": [
    {
     "name": "stdout",
     "output_type": "stream",
     "text": [
      "***INDEPENDENT TEST***\n",
      "accuracy:  0.8070482379405148\n",
      "\n",
      "f1_score:  0.8005425655600052\n",
      "\n",
      "Confusion Matrix\n",
      "[[6719 1283]\n",
      " [1805 6197]]\n"
     ]
    }
   ],
   "source": [
    "y_pred = boost.predict(X_test)\n",
    "\n",
    "from sklearn.metrics import accuracy_score, confusion_matrix, f1_score\n",
    "acc = accuracy_score(y_test, y_pred)\n",
    "print(\"***INDEPENDENT TEST***\")\n",
    "print(\"accuracy: \", acc)\n",
    "print()\n",
    "\n",
    "f1 = f1_score(y_test, y_pred, average='binary')\n",
    "print(\"f1_score: \", f1)\n",
    "print()\n",
    "\n",
    "cm = confusion_matrix(y_test, y_pred)\n",
    "print(\"Confusion Matrix\")\n",
    "print(cm)"
   ]
  },
  {
   "cell_type": "markdown",
   "metadata": {
    "id": "sfW7DqExQ0el"
   },
   "source": [
    "##XGBOOST"
   ]
  },
  {
   "cell_type": "code",
   "execution_count": 58,
   "metadata": {
    "colab": {
     "base_uri": "https://localhost:8080/",
     "height": 215
    },
    "id": "qk7JM05oQCjn",
    "outputId": "a6c31511-28f1-4792-c0f4-a6bc3ceb9385"
   },
   "outputs": [
    {
     "name": "stdout",
     "output_type": "stream",
     "text": [
      "***CROSS VALIDATION***\n",
      "[0.79332616 0.81377826 0.8320775  0.80947255 0.83100108 0.8073197\n",
      " 0.81054898 0.7911733  0.80711207 0.7887931 ]\n",
      "accuracy:  0.8084602696633384\n",
      "0.01420326214532438\n",
      "------------------------------------------------------------\n",
      "***CROSS VALIDATION***\n",
      "[0.78040904 0.8116254  0.80086114 0.80516685 0.80516685 0.7911733\n",
      " 0.79763186 0.79547901 0.80926724 0.78340517]\n",
      "accuracy:  0.7980185869121413\n",
      "0.009995288265713633\n"
     ]
    }
   ],
   "source": [
    "from xgboost import XGBClassifier, XGBRegressor, XGBRFClassifier, XGBRFRegressor\n",
    "\n",
    "clf = XGBClassifier()\n",
    "clf.fit(X_train_res, y_train_res)\n",
    "\n",
    "from sklearn.model_selection import cross_val_score\n",
    "accuracies = cross_val_score(estimator = clf, X = X_train_res, y = y_train_res, cv = 10)\n",
    "print(\"***CROSS VALIDATION***\")\n",
    "print(accuracies)\n",
    "print(\"accuracy: \", accuracies.mean())\n",
    "print(accuracies.std())\n",
    "\n",
    "print('-'*60)\n",
    "\n",
    "clf = XGBRFClassifier()\n",
    "clf.fit(X_train_res, y_train_res)\n",
    "\n",
    "from sklearn.model_selection import cross_val_score\n",
    "accuracies = cross_val_score(estimator = clf, X = X_train_res, y = y_train_res, cv = 10)\n",
    "print(\"***CROSS VALIDATION***\")\n",
    "print(accuracies)\n",
    "print(\"accuracy: \", accuracies.mean())\n",
    "print(accuracies.std())\n",
    "\n"
   ]
  },
  {
   "cell_type": "code",
   "execution_count": 59,
   "metadata": {
    "colab": {
     "base_uri": "https://localhost:8080/",
     "height": 161
    },
    "id": "oNy4F9yDQCON",
    "outputId": "e7ec7ecf-f598-48e7-ca73-d4c503c67e00"
   },
   "outputs": [
    {
     "name": "stdout",
     "output_type": "stream",
     "text": [
      "***INDEPENDENT TEST***\n",
      "accuracy:  0.8019870032491877\n",
      "\n",
      "f1_score:  0.769611050527081\n",
      "\n",
      "Confusion Matrix\n",
      "[[7542  460]\n",
      " [2709 5293]]\n"
     ]
    }
   ],
   "source": [
    "y_pred = clf.predict(X_test)\n",
    "\n",
    "from sklearn.metrics import accuracy_score, confusion_matrix, f1_score\n",
    "acc = accuracy_score(y_test, y_pred)\n",
    "print(\"***INDEPENDENT TEST***\")\n",
    "print(\"accuracy: \", acc)\n",
    "print()\n",
    "\n",
    "f1 = f1_score(y_test, y_pred, average='binary')\n",
    "print(\"f1_score: \", f1)\n",
    "print()\n",
    "\n",
    "cm = confusion_matrix(y_test, y_pred)\n",
    "print(\"Confusion Matrix\")\n",
    "print(cm)"
   ]
  },
  {
   "cell_type": "markdown",
   "metadata": {
    "id": "YVXvqLFMSkTA"
   },
   "source": [
    "##Random Forest"
   ]
  },
  {
   "cell_type": "code",
   "execution_count": 60,
   "metadata": {
    "colab": {
     "base_uri": "https://localhost:8080/",
     "height": 107
    },
    "id": "ay-_FMiNSoqV",
    "outputId": "479e1549-26c3-492f-fa14-eac8ac6d81d7"
   },
   "outputs": [
    {
     "name": "stdout",
     "output_type": "stream",
     "text": [
      "***CROSS VALIDATION***\n",
      "[0.7459634  0.75888052 0.7459634  0.74488698 0.74811625 0.73304629\n",
      " 0.75134553 0.73196986 0.7575431  0.74030172]\n",
      "mean.accuracy:  0.7458017055788575\n",
      "0.00854497728597838\n"
     ]
    }
   ],
   "source": [
    "from sklearn.ensemble import RandomForestRegressor, RandomForestClassifier\n",
    "\n",
    "\n",
    "clf = RandomForestClassifier(max_depth=2, random_state=0, n_estimators=300)\n",
    "clf.fit(X_train_res, y_train_res)\n",
    "\n",
    "from sklearn.model_selection import cross_val_score\n",
    "accuracies = cross_val_score(estimator = clf, X = X_train_res, y = y_train_res, cv = 10, scoring='accuracy')\n",
    "print(\"***CROSS VALIDATION***\")\n",
    "print(accuracies)\n",
    "print(\"mean.accuracy: \", accuracies.mean())\n",
    "print(accuracies.std())\n"
   ]
  },
  {
   "cell_type": "code",
   "execution_count": 61,
   "metadata": {
    "colab": {
     "base_uri": "https://localhost:8080/",
     "height": 161
    },
    "id": "PuxIRG4NSoik",
    "outputId": "4fb84308-122d-46d5-93d2-e5bb13514be3"
   },
   "outputs": [
    {
     "name": "stdout",
     "output_type": "stream",
     "text": [
      "***INDEPENDENT TEST***\n",
      "accuracy:  0.7524993751562109\n",
      "\n",
      "f1_score:  0.6710952420493232\n",
      "\n",
      "Confusion Matrix\n",
      "[[8002    0]\n",
      " [3961 4041]]\n"
     ]
    }
   ],
   "source": [
    "y_pred = clf.predict(X_test)\n",
    "\n",
    "from sklearn.metrics import accuracy_score, confusion_matrix, f1_score\n",
    "acc = accuracy_score(y_test, y_pred)\n",
    "print(\"***INDEPENDENT TEST***\")\n",
    "print(\"accuracy: \", acc)\n",
    "print()\n",
    "\n",
    "f1 = f1_score(y_test, y_pred, average='binary')\n",
    "print(\"f1_score: \", f1)\n",
    "print()\n",
    "\n",
    "cm = confusion_matrix(y_test, y_pred)\n",
    "print(\"Confusion Matrix\")\n",
    "print(cm)"
   ]
  },
  {
   "cell_type": "markdown",
   "metadata": {
    "id": "z0SHFWGgYBHI"
   },
   "source": [
    "##LightGBM"
   ]
  },
  {
   "cell_type": "code",
   "execution_count": null,
   "metadata": {
    "colab": {
     "base_uri": "https://localhost:8080/",
     "height": 107
    },
    "id": "U-5HHndGYGtp",
    "outputId": "46b19ce4-0a7f-4bef-a133-7d33467f1962"
   },
   "outputs": [],
   "source": [
    "from lightgbm import LGBMRegressor, LGBMClassifier\n",
    "\n",
    "clf = LGBMClassifier(num_leaves=31, n_estimators=40, learning_rate=0.1)\n",
    "clf.fit(X_train_res, y_train_res)\n",
    "\n",
    "from sklearn.model_selection import cross_val_score\n",
    "accuracies = cross_val_score(estimator = clf, X = X_train_res, y = y_train_res, cv = 10)\n",
    "print(\"***CROSS VALIDATION***\")\n",
    "print(accuracies)\n",
    "print(\"accuracy: \", accuracies.mean())\n",
    "print(accuracies.std())"
   ]
  },
  {
   "cell_type": "code",
   "execution_count": null,
   "metadata": {
    "colab": {
     "base_uri": "https://localhost:8080/",
     "height": 161
    },
    "id": "niLGud4kYHVp",
    "outputId": "a5ed6cb9-1fc0-44a5-f158-3fae83e74ffa"
   },
   "outputs": [],
   "source": [
    "y_pred = clf.predict(X_test)\n",
    "\n",
    "from sklearn.metrics import accuracy_score, confusion_matrix, f1_score\n",
    "acc = accuracy_score(y_test, y_pred)\n",
    "print(\"***INDEPENDENT TEST***\")\n",
    "print(\"accuracy: \", acc)\n",
    "print()\n",
    "\n",
    "f1 = f1_score(y_test, y_pred, average='binary')\n",
    "print(\"f1_score: \", f1)\n",
    "print()\n",
    "\n",
    "cm = confusion_matrix(y_test, y_pred)\n",
    "print(\"Confusion Matrix\")\n",
    "print(cm)"
   ]
  },
  {
   "cell_type": "markdown",
   "metadata": {
    "id": "ehSaiRoeH_gK"
   },
   "source": [
    "## Init Scorers"
   ]
  },
  {
   "cell_type": "code",
   "execution_count": 62,
   "metadata": {
    "id": "3juWH7ttEFP8"
   },
   "outputs": [],
   "source": [
    "from sklearn.model_selection import cross_validate\n",
    "from sklearn.metrics import make_scorer, roc_curve, auc, matthews_corrcoef\n",
    "from imblearn.metrics import sensitivity_score, specificity_score\n",
    "\n",
    "curves = []\n",
    "\n",
    "def plt_curve(lst, name):\n",
    "  plt.figure(figsize=(20,10))\n",
    "  \n",
    "  for idx, itm in enumerate(lst):\n",
    "    fpr, tpr = itm\n",
    "    plt.plot(fpr, tpr, lw=1, label='ROC fold %d (AUC = %0.2f)' % (idx+1, auc(fpr, tpr)))\n",
    "    \n",
    "  plt.xlim([0.0, 1.0])\n",
    "  plt.ylim([0.0, 1.0])\n",
    "  plt.xlabel('False Positive Rate')\n",
    "  plt.ylabel('True Positive Rate')\n",
    "  plt.title('Receiver operating characteristic')\n",
    "  plt.legend(loc=\"lower right\")\n",
    "  figName = name + '.png'\n",
    "  plt.savefig(figName, bbox_inches='tight')\n",
    "  plt.show()\n",
    "\n",
    "def roc_plt(y_true, y_score):\n",
    "  fpr, tpr, _ = roc_curve(y_true, y_score, pos_label=1)\n",
    "  curves.append([fpr, tpr])\n",
    "  return 1\n",
    "\n",
    "metrs = {\n",
    "         'roc_plt': make_scorer(roc_plt, needs_proba=True), \n",
    "         'matthews_corrcoef': make_scorer(matthews_corrcoef), \n",
    "         'sensitivity_score': make_scorer(sensitivity_score), \n",
    "         'specificity_score': make_scorer(specificity_score)\n",
    "        }"
   ]
  },
  {
   "cell_type": "markdown",
   "metadata": {
    "id": "gFYxfLc5DKGX"
   },
   "source": [
    "## SVM CV Scores"
   ]
  },
  {
   "cell_type": "code",
   "execution_count": 63,
   "metadata": {
    "id": "NFhgPzCG2B8E"
   },
   "outputs": [
    {
     "data": {
      "image/png": "[encoded data removed]",
      "text/plain": [
       "<Figure size 1440x720 with 1 Axes>"
      ]
     },
     "metadata": {
      "needs_background": "light"
     },
     "output_type": "display_data"
    },
    {
     "name": "stdout",
     "output_type": "stream",
     "text": [
      "***CROSS VALIDATION***\n",
      "SVM\n"
     ]
    },
    {
     "data": {
      "text/plain": [
       "{'fit_time': array([52.29589581, 77.35941768, 72.73230386, 54.91924191, 55.17092609,\n",
       "        74.65921307, 75.74303508, 62.23428988, 54.86989999, 51.93223214]),\n",
       " 'score_time': array([1.96859813, 2.99512029, 1.99855781, 2.03886604, 2.04283595,\n",
       "        2.93342304, 2.45413589, 2.15489101, 3.20555592, 1.96782494]),\n",
       " 'test_roc_plt': array([1, 1, 1, 1, 1, 1, 1, 1, 1, 1]),\n",
       " 'test_matthews_corrcoef': array([0.58395639, 0.66374835, 0.66251715, 0.69388379, 0.66454466,\n",
       "        0.64618474, 0.6469027 , 0.62667376, 0.65393919, 0.62724728]),\n",
       " 'test_sensitivity_score': array([0.73275862, 0.72844828, 0.70689655, 0.74568966, 0.70967742,\n",
       "        0.71182796, 0.71827957, 0.70107527, 0.71767241, 0.71551724]),\n",
       " 'test_specificity_score': array([0.84731183, 0.92258065, 0.93763441, 0.93548387, 0.9375    ,\n",
       "        0.92025862, 0.91594828, 0.91163793, 0.92241379, 0.90086207])}"
      ]
     },
     "execution_count": 63,
     "metadata": {},
     "output_type": "execute_result"
    }
   ],
   "source": [
    "from sklearn.svm import SVC, SVR\n",
    "classifier = SVC(kernel='rbf', gamma='scale', probability=True)\n",
    "\n",
    "curves = []\n",
    "\n",
    "scores = cross_validate(classifier, \n",
    "                        X_train_res, \n",
    "                        y_train_res, \n",
    "                        cv=10,\n",
    "                        scoring=metrs,\n",
    "                        return_train_score=False)\n",
    "\n",
    "plt_curve(curves, \"SVM CV\")\n",
    "print(\"***CROSS VALIDATION***\")\n",
    "print(\"SVM\")\n",
    "scores\n",
    "#scores['roc']=curves"
   ]
  },
  {
   "cell_type": "markdown",
   "metadata": {
    "id": "pUciLSy2DRSF"
   },
   "source": [
    "## XGBoost CV Scores"
   ]
  },
  {
   "cell_type": "code",
   "execution_count": 64,
   "metadata": {
    "id": "XXR22RqMC3mc"
   },
   "outputs": [
    {
     "data": {
      "image/png": "[encoded data removed]",
      "text/plain": [
       "<Figure size 1440x720 with 1 Axes>"
      ]
     },
     "metadata": {
      "needs_background": "light"
     },
     "output_type": "display_data"
    },
    {
     "name": "stdout",
     "output_type": "stream",
     "text": [
      "***CROSS VALIDATION***\n",
      "XGBoost\n"
     ]
    },
    {
     "data": {
      "text/plain": [
       "{'fit_time': array([13.87789488, 13.1054306 , 16.10036111, 13.24569607, 17.11101127,\n",
       "        23.07463813, 15.77704597, 16.88157105, 15.28748488, 17.34685087]),\n",
       " 'score_time': array([0.02460504, 0.01916027, 0.01960588, 0.02639103, 0.03290176,\n",
       "        0.0220058 , 0.01937819, 0.02014494, 0.02548122, 0.01941419]),\n",
       " 'test_roc_plt': array([1, 1, 1, 1, 1, 1, 1, 1, 1, 1]),\n",
       " 'test_matthews_corrcoef': array([0.58801842, 0.63495867, 0.67133673, 0.62183049, 0.66606767,\n",
       "        0.62159472, 0.62570938, 0.58637329, 0.61618633, 0.58044566]),\n",
       " 'test_sensitivity_score': array([0.75862069, 0.73706897, 0.75862069, 0.76077586, 0.77634409,\n",
       "        0.73333333, 0.75053763, 0.73333333, 0.76724138, 0.73922414]),\n",
       " 'test_specificity_score': array([0.82795699, 0.89032258, 0.90537634, 0.85806452, 0.88577586,\n",
       "        0.88146552, 0.87068966, 0.84913793, 0.84698276, 0.83836207])}"
      ]
     },
     "execution_count": 64,
     "metadata": {},
     "output_type": "execute_result"
    }
   ],
   "source": [
    "from xgboost import XGBClassifier, XGBRegressor, XGBRFClassifier, XGBRFRegressor\n",
    "classifier = XGBClassifier()\n",
    "\n",
    "curves = []\n",
    "\n",
    "scores = cross_validate(classifier, \n",
    "                        X_train_res, \n",
    "                        y_train_res, \n",
    "                        cv=10,\n",
    "                        scoring=metrs,\n",
    "                        return_train_score=False)\n",
    "\n",
    "plt_curve(curves, \"XGBoost CV\")\n",
    "print(\"***CROSS VALIDATION***\")\n",
    "print(\"XGBoost\")\n",
    "scores\n",
    "#scores['roc']=curves"
   ]
  },
  {
   "cell_type": "markdown",
   "metadata": {
    "id": "A-d2EkQ0DYr0"
   },
   "source": [
    "## AdaBoost CV Scores"
   ]
  },
  {
   "cell_type": "code",
   "execution_count": 65,
   "metadata": {
    "id": "sybHsZz0C34W"
   },
   "outputs": [
    {
     "data": {
      "image/png": "[encoded data removed]",
      "text/plain": [
       "<Figure size 1440x720 with 1 Axes>"
      ]
     },
     "metadata": {
      "needs_background": "light"
     },
     "output_type": "display_data"
    },
    {
     "name": "stdout",
     "output_type": "stream",
     "text": [
      "***CROSS VALIDATION***\n",
      "AdaBoost\n"
     ]
    },
    {
     "data": {
      "text/plain": [
       "{'fit_time': array([52.72602892, 52.04932904, 55.8681829 , 52.61565709, 54.9772048 ,\n",
       "        50.127635  , 47.93687916, 47.89952493, 47.41198897, 50.28881001]),\n",
       " 'score_time': array([0.38308692, 0.58600402, 0.42640209, 0.47642016, 0.98043704,\n",
       "        0.40432715, 0.37921095, 0.37542415, 0.37131786, 0.36245584]),\n",
       " 'test_roc_plt': array([1, 1, 1, 1, 1, 1, 1, 1, 1, 1]),\n",
       " 'test_matthews_corrcoef': array([0.53528375, 0.60404209, 0.62266503, 0.62952484, 0.62623471,\n",
       "        0.60542833, 0.59751998, 0.60468913, 0.58591753, 0.5805847 ]),\n",
       " 'test_sensitivity_score': array([0.75      , 0.75646552, 0.75431034, 0.7737069 , 0.76344086,\n",
       "        0.74623656, 0.75483871, 0.73548387, 0.75215517, 0.76293103]),\n",
       " 'test_specificity_score': array([0.78494624, 0.84516129, 0.86451613, 0.85376344, 0.85991379,\n",
       "        0.85560345, 0.84051724, 0.86422414, 0.83189655, 0.81681034])}"
      ]
     },
     "execution_count": 65,
     "metadata": {},
     "output_type": "execute_result"
    }
   ],
   "source": [
    "from sklearn.ensemble import AdaBoostClassifier\n",
    "classifier = AdaBoostClassifier(n_estimators=300)\n",
    "\n",
    "curves = []\n",
    "\n",
    "scores = cross_validate(classifier, \n",
    "                        X_train_res, \n",
    "                        y_train_res, \n",
    "                        cv=10,\n",
    "                        scoring=metrs,\n",
    "                        return_train_score=False)\n",
    "\n",
    "plt_curve(curves, \"AdaBoost CV\")\n",
    "print(\"***CROSS VALIDATION***\")\n",
    "print(\"AdaBoost\")\n",
    "scores\n",
    "#scores['roc']=curves"
   ]
  },
  {
   "cell_type": "markdown",
   "metadata": {
    "id": "XUjPpgWsDcBH"
   },
   "source": [
    "## RandomForest CV Scores"
   ]
  },
  {
   "cell_type": "code",
   "execution_count": 66,
   "metadata": {
    "id": "hRcYObIZC96W"
   },
   "outputs": [
    {
     "data": {
      "image/png": "[encoded data removed]",
      "text/plain": [
       "<Figure size 1440x720 with 1 Axes>"
      ]
     },
     "metadata": {
      "needs_background": "light"
     },
     "output_type": "display_data"
    },
    {
     "name": "stdout",
     "output_type": "stream",
     "text": [
      "***CROSS VALIDATION***\n",
      "RandomForest\n"
     ]
    },
    {
     "data": {
      "text/plain": [
       "{'fit_time': array([4.36179781, 4.53299308, 3.95571709, 4.10925174, 3.94105482,\n",
       "        3.97045994, 3.94927216, 3.92946601, 3.99068284, 3.911551  ]),\n",
       " 'score_time': array([0.14054298, 0.09780502, 0.09852505, 0.09994316, 0.10145116,\n",
       "        0.10075903, 0.09747005, 0.10085201, 0.09854722, 0.10001493]),\n",
       " 'test_roc_plt': array([1, 1, 1, 1, 1, 1, 1, 1, 1, 1]),\n",
       " 'test_matthews_corrcoef': array([0.56926156, 0.5908313 , 0.57092085, 0.56926156, 0.57465977,\n",
       "        0.55147062, 0.57962624, 0.54981252, 0.5889648 , 0.56241627]),\n",
       " 'test_sensitivity_score': array([0.48922414, 0.51724138, 0.49137931, 0.48922414, 0.49677419,\n",
       "        0.46666667, 0.50322581, 0.46451613, 0.51508621, 0.48060345]),\n",
       " 'test_specificity_score': array([1., 1., 1., 1., 1., 1., 1., 1., 1., 1.])}"
      ]
     },
     "execution_count": 66,
     "metadata": {},
     "output_type": "execute_result"
    }
   ],
   "source": [
    "from sklearn.ensemble import RandomForestRegressor, RandomForestClassifier\n",
    "classifier = RandomForestClassifier(max_depth=2, random_state=42, n_estimators=300)\n",
    "\n",
    "curves = []\n",
    "\n",
    "scores = cross_validate(classifier, \n",
    "                        X_train_res, \n",
    "                        y_train_res, \n",
    "                        cv=10,\n",
    "                        scoring=metrs,\n",
    "                        return_train_score=False)\n",
    "\n",
    "plt_curve(curves, \"RandomForest CV\")\n",
    "print(\"***CROSS VALIDATION***\")\n",
    "print(\"RandomForest\")\n",
    "scores\n",
    "#scores['roc']=curves"
   ]
  },
  {
   "cell_type": "markdown",
   "metadata": {
    "id": "sx0c09_kQ5LY"
   },
   "source": [
    "## LightGBM CV Scores"
   ]
  },
  {
   "cell_type": "code",
   "execution_count": null,
   "metadata": {
    "id": "8QppwSr3Q4vd"
   },
   "outputs": [],
   "source": [
    "from lightgbm import LGBMRegressor, LGBMClassifier\n",
    "classifier = LGBMClassifier(num_leaves=31, n_estimators=40, learning_rate=0.1)\n",
    "\n",
    "curves = []\n",
    "\n",
    "scores = cross_validate(classifier, \n",
    "                        X_train_res, \n",
    "                        y_train_res, \n",
    "                        cv=10,\n",
    "                        scoring=metrs,\n",
    "                        return_train_score=False)\n",
    "\n",
    "plt_curve(curves, \"LightGBM CV\")\n",
    "print(\"***CROSS VALIDATION***\")\n",
    "print(\"LightGBM\")\n",
    "scores\n",
    "#scores['roc']=curves"
   ]
  },
  {
   "cell_type": "markdown",
   "metadata": {
    "id": "VXwy1gUxDgnk"
   },
   "source": [
    "## ROC Comparisons of all Estimators and Average Precision"
   ]
  },
  {
   "cell_type": "code",
   "execution_count": 67,
   "metadata": {
    "id": "d4QfZZ634mjM"
   },
   "outputs": [],
   "source": [
    "from sklearn.model_selection import cross_validate\n",
    "from sklearn.metrics import make_scorer, roc_curve, auc, matthews_corrcoef, precision_recall_curve, average_precision_score\n",
    "from imblearn.metrics import sensitivity_score, specificity_score\n",
    "from scipy import interp\n",
    "\n",
    "tprs = []\n",
    "def plt_curve(lst, name):\n",
    "  plt.figure(figsize=(10,7))\n",
    "  \n",
    "  for idx, itm in enumerate(lst):\n",
    "    fpr, tpr = itm\n",
    "    tprs.append(interp(np.linspace(0, 1, 100), fpr, tpr))\n",
    "    tprs[-1][0] = 0.0\n",
    "#     plt.plot(fpr, tpr, lw=1, label='ROC fold %d (AUC = %0.2f)' % (idx+1, auc(fpr, tpr)))\n",
    "  plt.plot([0, 1], [0, 1], linestyle='--', lw=2, color='black',\n",
    "         label='Random Guess', alpha=.8)\n",
    "  mean_tpr = np.mean(tprs, axis=0)\n",
    "  mean_tpr[-1] = 1.0\n",
    "  mean_auc = auc(np.linspace(0, 1, 100), mean_tpr)\n",
    "  std_auc = np.std(aucs)\n",
    "  plt.plot(mean_fpr, mean_tpr, color='b',\n",
    "         label='% fold cross validation (AUC = %0.2f)' % (mean_auc),\n",
    "         lw=2, alpha=.8)\n",
    "  plt.xlim([0.0, 1.0])\n",
    "  plt.ylim([0.0, 1.0])\n",
    "  plt.xlabel('False Positive Rate')\n",
    "  plt.ylabel('True Positive Rate')\n",
    "  plt.title('Receiver operating characteristic')\n",
    "  plt.legend(loc=\"lower right\")\n",
    "  figName = name + '.png'\n",
    "  plt.savefig(figName, bbox_inches='tight')\n",
    "  plt.show()\n",
    "\n",
    "  \n",
    "  \n",
    "def roc_plt(y_true, y_score):\n",
    "  fpr, tpr, _ = roc_curve(y_true, y_score, pos_label=1)\n",
    "  curves.append([fpr, tpr])\n",
    "  return 1\n",
    "\n",
    "def pr_curve(lst, apLst, name):\n",
    "  plt.figure(figsize=(10,7))\n",
    "  \n",
    "  f_scores = np.linspace(0.2, 0.8, num=4)\n",
    "  for f_score in f_scores:\n",
    "    x = np.linspace(0.01, 1)\n",
    "    y = f_score * x / (2 * x - f_score)\n",
    "    l, = plt.plot(x[y >= 0], y[y >= 0], color='gray', alpha=0.2)\n",
    "    plt.annotate('f1={0:0.1f}'.format(f_score), xy=(0.7, y[36] + 0.02))\n",
    "  \n",
    "  for idx, itm in enumerate(lst):\n",
    "    pre, rec = itm\n",
    "    plt.plot(pre, rec, lw=2, label='Precision-Recall fold %d (AP = %0.2f)' % (idx+1, apLst[idx]))\n",
    "  plt.ylim([0.0, 1.0])\n",
    "  plt.xlim([0.0, 1.0])\n",
    "  plt.xlabel('Recall')\n",
    "  plt.ylabel('Precision')\n",
    "  plt.title('Precision-Recall')\n",
    "  plt.legend(loc=\"lower right\")\n",
    "  figName = name + '.png'\n",
    "  plt.savefig(figName, bbox_inches='tight')\n",
    "  plt.show()\n",
    "\n",
    "  \n",
    "  \n",
    "def pr_plt(y_true, y_score):\n",
    "  precision, recall, _ = precision_recall_curve(y_true, y_score, pos_label=1)\n",
    "  pr_curves.append([precision, recall])\n",
    "  return 1\n",
    "\n",
    "metrs = {\n",
    "         'roc_plt': make_scorer(roc_plt, needs_proba=True), \n",
    "         'pr_plt': make_scorer(pr_plt, needs_proba=True), \n",
    "         'average_precision': make_scorer(average_precision_score, needs_proba=True), \n",
    "         'matthews_corrcoef': make_scorer(matthews_corrcoef), \n",
    "         'sensitivity_score': make_scorer(sensitivity_score), \n",
    "         'specificity_score': make_scorer(specificity_score)\n",
    "        }"
   ]
  },
  {
   "cell_type": "code",
   "execution_count": null,
   "metadata": {
    "colab": {
     "base_uri": "https://localhost:8080/",
     "height": 1000
    },
    "id": "gv9P9Le7S7mT",
    "outputId": "e396886c-e956-4c19-c9bb-21ca6dc05de0"
   },
   "outputs": [],
   "source": [
    "estimators = {\"SVM\": SVC(kernel='rbf', gamma='scale', probability=True),\n",
    "              \"XGBoost\": XGBClassifier(),\n",
    "              \"AdaBoost\": AdaBoostClassifier(n_estimators=300),\n",
    "              \"RandomForest\": RandomForestClassifier(max_depth=2, random_state=42, n_estimators=300),\n",
    "              \"LightGBM\": LGBMClassifier(num_leaves=31, n_estimators=40, learning_rate=0.1),\n",
    "              \"LDA\": LinearDiscriminantAnalysis(solver=\"svd\", store_covariance=True),\n",
    "              \"QDA\": QuadraticDiscriminantAnalysis(store_covariance=True),\n",
    "              \"Bagging\": BaggingClassifier(KNeighborsClassifier(), max_samples=0.5, max_features=0.5),\n",
    "              \"DT\": DecisionTreeClassifier(max_depth=4),\n",
    "              \"ET\": ExtraTreesClassifier(n_estimators=10, max_depth=None, min_samples_split=2, random_state=0),\n",
    "              \"GB\": GradientBoostingClassifier(n_estimators=100, learning_rate=1.0, max_depth=1, random_state=0),\n",
    "              \"MLP\": MLPClassifier(alpha=1, max_iter=1000)}\n",
    "\n",
    "probas_pred = []\n",
    "avg_pre = []\n",
    "\n",
    "plt.figure(figsize=(10,7))\n",
    "\n",
    "for key, clf in estimators.items():\n",
    "  clf.fit(X_train_res, y_train_res)\n",
    "  y_pred = clf.predict(X_test)\n",
    "  y_score = clf.predict_proba(X_test)\n",
    "  probas_pred.append(y_score)\n",
    "  avg_pre.append(average_precision_score(y_test, y_score[:, 1], pos_label=1))\n",
    "\n",
    "  fpr, tpr, _ = roc_curve(y_test, y_score[:, 1], pos_label=1)\n",
    "  \n",
    "  plt.plot(fpr, tpr, lw=2, label='ROC for %s (AUC = %0.2f)' % (key, auc(fpr, tpr)))\n",
    "  print(\"***Independent Test***\")\n",
    "  mat_cor_coef = matthews_corrcoef(y_test, y_pred)\n",
    "  print(\"matthews_corrcoef for \" + key + \": \", mat_cor_coef)\n",
    "  print()\n",
    "\n",
    "  sen_scr = sensitivity_score(y_test, y_pred)\n",
    "  print(\"sensitivity_score for \" + key + \": \", sen_scr)\n",
    "  print()\n",
    "\n",
    "  spe_scr = specificity_score(y_test, y_pred)\n",
    "  print(\"specificity_score for \" + key + \": \", spe_scr)\n",
    "  print()\n",
    "plt.plot([0, 1], [0, 1], linestyle='--', lw=2, color='black',\n",
    "       label='Random Guess', alpha=.8)   \n",
    "plt.xlim([0.0, 1.0])\n",
    "plt.ylim([0.0, 1.0])\n",
    "plt.xlabel('False Positive Rate')\n",
    "plt.ylabel('True Positive Rate')\n",
    "plt.title('Receiver operating characteristic')\n",
    "plt.legend(loc=\"lower right\")\n",
    "figName = \"Compare_All_ROC\" + '.png'\n",
    "plt.savefig(figName, bbox_inches='tight')\n",
    "plt.show()\n",
    "\n",
    "\n",
    "plt.figure(figsize=(10,7))\n",
    "\n",
    "f_scores = np.linspace(0.2, 0.8, num=4)\n",
    "for f_score in f_scores:\n",
    "  x = np.linspace(0.01, 1)\n",
    "  y = f_score * x / (2 * x - f_score)\n",
    "  l, = plt.plot(x[y >= 0], y[y >= 0], color='gray', alpha=0.2)\n",
    "  plt.annotate('f1={0:0.1f}'.format(f_score), xy=(0.7, y[36] + 0.02))\n",
    "\n",
    "keyZ = list(estimators.keys())\n",
    "for idx, y_score in enumerate(probas_pred):\n",
    "  pre, rec, _ = precision_recall_curve(y_test, y_score[:, 1], pos_label=1)\n",
    "  \n",
    "  plt.plot(pre, rec, lw=2, label='Precision-Recall Curve for %s (AP = %0.2f)' % (keyZ[idx], avg_pre[idx]))\n",
    "plt.plot([1, 0], [0, 1], linestyle='--', lw=2, color='black',\n",
    "       label='Random Guess', alpha=.8)  \n",
    "plt.ylim([0.0, 1.0])\n",
    "plt.xlim([0.0, 1.0])\n",
    "plt.xlabel('Recall')\n",
    "plt.ylabel('Precision')\n",
    "plt.title('Precision-Recall')\n",
    "plt.legend(loc=\"lower right\")\n",
    "figName = \"Compare_All_Precision-Recall\" + '.png'\n",
    "plt.savefig(figName, bbox_inches='tight')\n",
    "plt.show()"
   ]
  },
  {
   "cell_type": "markdown",
   "metadata": {
    "id": "siThI8Lrkfa7"
   },
   "source": [
    "## Cross Validation and Independent Test for (SVM)"
   ]
  },
  {
   "cell_type": "code",
   "execution_count": null,
   "metadata": {
    "id": "_z3KOwsP3MvR"
   },
   "outputs": [],
   "source": [
    "from sklearn.model_selection import cross_validate\n",
    "from sklearn.metrics import make_scorer, roc_curve, auc, matthews_corrcoef, precision_recall_curve, average_precision_score\n",
    "from imblearn.metrics import sensitivity_score, specificity_score\n",
    "from scipy import interp\n",
    "\n",
    "tprs = []\n",
    "def plt_curve(lst, name):\n",
    "  plt.figure(figsize=(20,10))\n",
    "  \n",
    "  for idx, itm in enumerate(lst):\n",
    "    fpr, tpr = itm\n",
    "    tprs.append(interp(np.linspace(0, 1, 100), fpr, tpr))\n",
    "    tprs[-1][0] = 0.0\n",
    "#     plt.plot(fpr, tpr, lw=1, label='ROC fold %d (AUC = %0.2f)' % (idx+1, auc(fpr, tpr)))\n",
    "  plt.plot([0, 1], [0, 1], linestyle='--', lw=2, color='black',\n",
    "         label='Random Guess', alpha=.8)\n",
    "  mean_tpr = np.mean(tprs, axis=0)\n",
    "  mean_tpr[-1] = 1.0\n",
    "  mean_auc = auc(np.linspace(0, 1, 100), mean_tpr)\n",
    "  std_auc = np.std(aucs)\n",
    "  plt.plot(mean_fpr, mean_tpr, color='b',\n",
    "         label='% fold cross validation (AUC = %0.2f)' % (mean_auc),\n",
    "         lw=2, alpha=.8)\n",
    "  plt.xlim([0.0, 1.0])\n",
    "  plt.ylim([0.0, 1.0])\n",
    "  plt.xlabel('False Positive Rate')\n",
    "  plt.ylabel('True Positive Rate')\n",
    "  plt.title('Receiver operating characteristic')\n",
    "  plt.legend(loc=\"lower right\")\n",
    "  figName = name + '.png'\n",
    "  plt.savefig(figName, bbox_inches='tight')\n",
    "  plt.show()\n",
    "\n",
    "  \n",
    "  \n",
    "def roc_plt(y_true, y_score):\n",
    "  fpr, tpr, _ = roc_curve(y_true, y_score, pos_label=1)\n",
    "  curves.append([fpr, tpr])\n",
    "  return 1\n",
    "\n",
    "def pr_curve(lst, apLst, name):\n",
    "  plt.figure(figsize=(20,10))\n",
    "  \n",
    "  f_scores = np.linspace(0.2, 0.8, num=4)\n",
    "  for f_score in f_scores:\n",
    "    x = np.linspace(0.01, 1)\n",
    "    y = f_score * x / (2 * x - f_score)\n",
    "    l, = plt.plot(x[y >= 0], y[y >= 0], color='gray', alpha=0.2)\n",
    "    plt.annotate('f1={0:0.1f}'.format(f_score), xy=(0.7, y[36] + 0.02))\n",
    "  \n",
    "  for idx, itm in enumerate(lst):\n",
    "    pre, rec = itm\n",
    "    plt.plot(pre, rec, lw=1, label='Precision-Recall fold %d (AP = %0.2f)' % (idx+1, apLst[idx]))\n",
    "    \n",
    "  plt.ylim([0.0, 1.0])\n",
    "  plt.xlim([0.0, 1.0])\n",
    "  plt.xlabel('Recall')\n",
    "  plt.ylabel('Precision')\n",
    "  plt.title('Precision-Recall')\n",
    "  plt.legend(loc=\"lower right\")\n",
    "  figName = name + '.png'\n",
    "  plt.savefig(figName, bbox_inches='tight')\n",
    "  plt.show()\n",
    "\n",
    "  \n",
    "  \n",
    "def pr_plt(y_true, y_score):\n",
    "  precision, recall, _ = precision_recall_curve(y_true, y_score, pos_label=1)\n",
    "  pr_curves.append([precision, recall])\n",
    "  return 1\n",
    "\n",
    "metrs = {\n",
    "         'roc_plt': make_scorer(roc_plt, needs_proba=True), \n",
    "         'pr_plt': make_scorer(pr_plt, needs_proba=True), \n",
    "         'average_precision': make_scorer(average_precision_score, needs_proba=True), \n",
    "         'matthews_corrcoef': make_scorer(matthews_corrcoef), \n",
    "         'sensitivity_score': make_scorer(sensitivity_score), \n",
    "         'specificity_score': make_scorer(specificity_score)\n",
    "        }"
   ]
  },
  {
   "cell_type": "code",
   "execution_count": null,
   "metadata": {
    "id": "V5jkHmzXmC80"
   },
   "outputs": [],
   "source": [
    "from sklearn.svm import SVC, SVR\n",
    "classifier = SVC(kernel='rbf', gamma='scale', probability=True)\n",
    "\n",
    "curves = []\n",
    "pr_curves = []\n",
    "\n",
    "scores = cross_validate(classifier, \n",
    "                        X_train_res, \n",
    "                        y_train_res, \n",
    "                        cv=10,\n",
    "                        scoring=metrs,\n",
    "                        return_train_score=False)\n",
    "\n",
    "\n",
    "tprs = []\n",
    "mean_fpr = np.linspace(0, 1, 100)\n",
    "plt.figure(figsize=(10,7))\n",
    "\n",
    "for idx, itm in enumerate(curves):\n",
    "  fpr, tpr = itm\n",
    "  tprs.append(interp(mean_fpr, fpr, tpr))\n",
    "  tprs[-1][0] = 0.0\n",
    "#     plt.plot(fpr, tpr, lw=1, label='ROC fold %d (AUC = %0.2f)' % (idx+1, auc(fpr, tpr)))\n",
    "plt.plot([0, 1], [0, 1], linestyle='--', lw=2, color='black',\n",
    "       label='Random Guess', alpha=.8)\n",
    "mean_tpr = np.mean(tprs, axis=0)\n",
    "mean_tpr[-1] = 1.0\n",
    "mean_auc = auc(mean_fpr, mean_tpr)\n",
    "plt.plot(mean_fpr, mean_tpr, color='b',\n",
    "       label='10 fold cross validation (AUC = %0.2f)' % (mean_auc),\n",
    "       lw=2, alpha=.8)\n",
    "classifier.fit(X_train_res, y_train_res)\n",
    "y_pred = classifier.predict(X_test)\n",
    "y_score = classifier.predict_proba(X_test)\n",
    "fpr, tpr, _ = roc_curve(y_test, y_score[:, 1], pos_label=1)\n",
    "plt.plot(fpr, tpr, lw=2, color='r', label='Independent test (AUC = %0.2f)' % (auc(fpr, tpr)))\n",
    "plt.xlim([0.0, 1.0])\n",
    "plt.ylim([0.0, 1.0])\n",
    "plt.xlabel('False Positive Rate')\n",
    "plt.ylabel('True Positive Rate')\n",
    "plt.title('Receiver operating characteristic')\n",
    "plt.legend(loc=\"lower right\")\n",
    "figName = \"SVM ROC(Cross val and Independent)\" + '.png'\n",
    "plt.savefig(figName, bbox_inches='tight')\n",
    "plt.show()\n",
    "\n",
    "\n",
    "#plt_curve(curves, \"SVM ROC CV\")\n",
    "#pr_curve(pr_curves, scores['test_average_precision'], \"SVM PR CV\")\n",
    "#scores\n",
    "#scores['roc']=curves"
   ]
  },
  {
   "cell_type": "markdown",
   "metadata": {
    "id": "wqFp09Box2Y0"
   },
   "source": [
    "##Cross Validation Curve"
   ]
  },
  {
   "cell_type": "code",
   "execution_count": null,
   "metadata": {
    "colab": {
     "base_uri": "https://localhost:8080/",
     "height": 1000
    },
    "id": "iuhW5ZWVtz2O",
    "outputId": "176b2ced-57cd-43a6-8273-27504a3d5868"
   },
   "outputs": [],
   "source": [
    "from lightgbm import LGBMRegressor, LGBMClassifier\n",
    "from sklearn.ensemble import RandomForestRegressor, RandomForestClassifier\n",
    "from sklearn.ensemble import AdaBoostClassifier\n",
    "from xgboost import XGBClassifier, XGBRegressor, XGBRFClassifier, XGBRFRegressor\n",
    "from sklearn.discriminant_analysis import LinearDiscriminantAnalysis\n",
    "from sklearn.discriminant_analysis import QuadraticDiscriminantAnalysis\n",
    "from sklearn.svm import SVC, SVR\n",
    "from sklearn.ensemble import BaggingClassifier\n",
    "from sklearn.neighbors import KNeighborsClassifier\n",
    "from sklearn.ensemble import ExtraTreesClassifier\n",
    "from sklearn.ensemble import GradientBoostingClassifier\n",
    "from sklearn.neural_network import MLPClassifier\n",
    "from sklearn.model_selection import cross_validate\n",
    "from sklearn.metrics import make_scorer, roc_curve, auc, matthews_corrcoef, precision_recall_curve, average_precision_score\n",
    "from imblearn.metrics import sensitivity_score, specificity_score\n",
    "from scipy import interp\n",
    "\n",
    "def auROCplot():\n",
    "    ### auROC ###\n",
    "    plt.plot([0, 1], [0, 1], linestyle='--', lw=2, color='k', label='Random')\n",
    "    plt.xlim([0.0, 1.00])\n",
    "    plt.ylim([0.0, 1.02])\n",
    "    plt.xlabel('False Positive Rate (FPR)')\n",
    "    plt.ylabel('True Positive Rate (TPR)')\n",
    "    # plt.title('Receiver Operating Characteristic (ROC)')\n",
    "    plt.legend(loc='lower right')\n",
    "\n",
    "    plt.savefig('cvAuROC.png', dpi=100)\n",
    "    plt.show()\n",
    "    ### --- ###\n",
    "\n",
    "    \n",
    "def runAll(X, y):\n",
    "    Names = []\n",
    "    Classifiers = []\n",
    "    estimators = {\"SVM\": SVC(kernel='rbf', gamma='scale', probability=True),\n",
    "                  \"XGBoost\": XGBClassifier(),\n",
    "                  \"AdaBoost\": AdaBoostClassifier(n_estimators=300),\n",
    "                  \"RandomForest\": RandomForestClassifier(max_depth=2, random_state=42, n_estimators=300),\n",
    "                  \"LightGBM\": LGBMClassifier(num_leaves=31, n_estimators=40, learning_rate=0.1),\n",
    "                  \"LDA\": LinearDiscriminantAnalysis(solver=\"svd\", store_covariance=True),\n",
    "                  \"QDA\": QuadraticDiscriminantAnalysis(store_covariance=True),\n",
    "                  \"Bagging\": BaggingClassifier(KNeighborsClassifier(), max_samples=0.5, max_features=0.5),\n",
    "                  \"DT\": DecisionTreeClassifier(max_depth=4),\n",
    "                  \"ET\": ExtraTreesClassifier(n_estimators=10, max_depth=None, min_samples_split=2, random_state=0),\n",
    "                  \"GB\": GradientBoostingClassifier(n_estimators=100, learning_rate=1.0, max_depth=1, random_state=0),\n",
    "                  \"MLP\": MLPClassifier(alpha=1, max_iter=1000)}\n",
    "\n",
    "    for key, value in estimators.items():\n",
    "        Names.append(key)\n",
    "        Classifiers.append(value)\n",
    "\n",
    "    Results = []  # compare algorithms\n",
    "\n",
    "    from sklearn.metrics import accuracy_score, \\\n",
    "        confusion_matrix, \\\n",
    "        roc_auc_score,\\\n",
    "        average_precision_score,\\\n",
    "        roc_curve, f1_score, recall_score, matthews_corrcoef, auc\n",
    "\n",
    "    # Step 05 : Spliting with 10-FCV :\n",
    "    from sklearn.model_selection import StratifiedKFold\n",
    "\n",
    "    cv = StratifiedKFold(n_splits=10, shuffle=True)\n",
    "\n",
    "    for classifier, name in zip(Classifiers, Names):\n",
    "\n",
    "        accuray = []\n",
    "        auROC = []\n",
    "        avePrecision = []\n",
    "        F1_Score = []\n",
    "        AUC = []\n",
    "        MCC = []\n",
    "        Recall = []\n",
    "\n",
    "        mean_TPR = 0.0\n",
    "        mean_FPR = np.linspace(0, 1, 100)\n",
    "\n",
    "        CM = np.array([\n",
    "            [0, 0],\n",
    "            [0, 0],\n",
    "        ], dtype=int)\n",
    "\n",
    "        print(classifier.__class__.__name__)\n",
    "\n",
    "        model = classifier\n",
    "        for (train_index, test_index) in cv.split(X, y):\n",
    "\n",
    "            X_train = X[train_index]\n",
    "            X_test = X[test_index]\n",
    "\n",
    "            y_train = y[train_index]\n",
    "            y_test = y[test_index]\n",
    "\n",
    "            model.fit(X_train, y_train)\n",
    "\n",
    "\n",
    "            # Calculate ROC Curve and Area the Curve\n",
    "            y_proba = model.predict_proba(X_test)[:, 1]\n",
    "            FPR, TPR, _ = roc_curve(y_test, y_proba)\n",
    "            mean_TPR += np.interp(mean_FPR, FPR, TPR)\n",
    "            mean_TPR[0] = 0.0\n",
    "            roc_auc = auc(FPR, TPR)\n",
    "            ##########################################\n",
    "            # print(FPR)\n",
    "            # print(TPR)\n",
    "            ##########################################\n",
    "\n",
    "            y_artificial = model.predict(X_test)\n",
    "\n",
    "            auROC.append(roc_auc_score(y_test, y_proba))\n",
    "\n",
    "            accuray.append(accuracy_score(y_pred=y_artificial, y_true=y_test))\n",
    "            avePrecision.append(average_precision_score(y_test, y_proba)) # auPR\n",
    "            F1_Score.append(f1_score(y_true=y_test, y_pred=y_artificial))\n",
    "            MCC.append(matthews_corrcoef(y_true=y_test, y_pred=y_artificial))\n",
    "            Recall.append(recall_score(y_true=y_test, y_pred=y_artificial))\n",
    "            AUC.append(roc_auc)\n",
    "\n",
    "            CM += confusion_matrix(y_pred=y_artificial, y_true=y_test)\n",
    "\n",
    "        accuray = [_*100.0 for _ in accuray]\n",
    "        Results.append(accuray)\n",
    "\n",
    "        mean_TPR /= cv.get_n_splits(X, y)\n",
    "        mean_TPR[-1] = 1.0\n",
    "        mean_auc = auc(mean_FPR, mean_TPR)\n",
    "        plt.plot(\n",
    "            mean_FPR,\n",
    "            mean_TPR,\n",
    "            linestyle='-',\n",
    "            label='{} ({:0.3f})'.format(name, mean_auc), lw=2.0)\n",
    "\n",
    "        print('Accuracy: {0:.4f} %'.format(np.mean(accuray)))\n",
    "        # print('auROC: {0:.6f}'.format(np.mean(auROC)))\n",
    "        print('auROC: {0:.6f}'.format(mean_auc))\n",
    "        print('auPR: {0:.4f}'.format(np.mean(avePrecision))) # average_Precision\n",
    "        print('F1-score: {0:.4f}'.format(np.mean(F1_Score)))\n",
    "        print('MCC: {0:.4f}'.format(np.mean(MCC)))\n",
    "        # print('average_AUC:', np.mean(AUC))\n",
    "        # tn, fp, fn, tp = CM.ravel()\n",
    "        TN, FP, FN, TP = CM.ravel()\n",
    "        print('Recall: {0:.4f}'.format( np.mean(Recall)) )\n",
    "        # print('AUC: {0:.4f}'.format( np.mean(AUC)) )\n",
    "        print('Sensitivity (+): {0:.4f} %'.format( float( (TP) / (TP + FN) )*100.0 ))\n",
    "        print('Specificity (-): {0:.4f} %'.format( float( (TN) / (TN + FP) )*100.0 ))\n",
    "        print('Confusion Matrix:')\n",
    "        print(CM)\n",
    "\n",
    "        print('_______________________________________')\n",
    "\n",
    "    ### auROC Curve ###\n",
    "    auROCplot()\n",
    "\n",
    "    \n",
    "runAll(X_train_res, y_train_res)"
   ]
  },
  {
   "cell_type": "code",
   "execution_count": null,
   "metadata": {
    "id": "NADFwC_Ryf-e"
   },
   "outputs": [],
   "source": []
  }
 ],
 "metadata": {
  "colab": {
   "collapsed_sections": [],
   "name": "Malonylation_GTripeptide.ipynb",
   "provenance": [],
   "toc_visible": true
  },
  "kernelspec": {
   "display_name": "Python 3 (ipykernel)",
   "language": "python",
   "name": "python3"
  },
  "language_info": {
   "codemirror_mode": {
    "name": "ipython",
    "version": 3
   },
   "file_extension": ".py",
   "mimetype": "text/x-python",
   "name": "python",
   "nbconvert_exporter": "python",
   "pygments_lexer": "ipython3",
   "version": "3.9.7"
  }
 },
 "nbformat": 4,
 "nbformat_minor": 1
}
