{
 "cells": [
  {
   "cell_type": "code",
   "execution_count": 14,
   "metadata": {
    "colab": {},
    "colab_type": "code",
    "id": "w1lbWbfOzBV6"
   },
   "outputs": [],
   "source": [
    "import numpy as np\n",
    "import pandas as pd \n",
    "import matplotlib.pyplot as plt\n",
    "import math\n",
    "\n",
    "\n",
    "\n",
    "from numpy import array\n",
    "from numpy import argmax\n",
    "from numpy import mean\n",
    "from numpy import std\n",
    "\n",
    "\n",
    "import os\n",
    "import os.path"
   ]
  },
  {
   "cell_type": "code",
   "execution_count": 15,
   "metadata": {
    "colab": {
     "base_uri": "https://localhost:8080/",
     "height": 527
    },
    "colab_type": "code",
    "id": "PdmuqapEIQgp",
    "outputId": "f680bb5b-c16b-456d-b899-cea9a39cd2f7"
   },
   "outputs": [
    {
     "ename": "ModuleNotFoundError",
     "evalue": "No module named 'google.colab'",
     "output_type": "error",
     "traceback": [
      "\u001b[0;31m---------------------------------------------------------------------------\u001b[0m",
      "\u001b[0;31mModuleNotFoundError\u001b[0m                       Traceback (most recent call last)",
      "\u001b[0;32m<ipython-input-15-d5df0069828e>\u001b[0m in \u001b[0;36m<module>\u001b[0;34m\u001b[0m\n\u001b[0;32m----> 1\u001b[0;31m \u001b[0;32mfrom\u001b[0m \u001b[0mgoogle\u001b[0m\u001b[0;34m.\u001b[0m\u001b[0mcolab\u001b[0m \u001b[0;32mimport\u001b[0m \u001b[0mdrive\u001b[0m\u001b[0;34m\u001b[0m\u001b[0;34m\u001b[0m\u001b[0m\n\u001b[0m\u001b[1;32m      2\u001b[0m \u001b[0mdrive\u001b[0m\u001b[0;34m.\u001b[0m\u001b[0mmount\u001b[0m\u001b[0;34m(\u001b[0m\u001b[0;34m'/content/drive'\u001b[0m\u001b[0;34m)\u001b[0m\u001b[0;34m\u001b[0m\u001b[0;34m\u001b[0m\u001b[0m\n",
      "\u001b[0;31mModuleNotFoundError\u001b[0m: No module named 'google.colab'"
     ]
    }
   ],
   "source": [
    "from google.colab import drive\n",
    "drive.mount('/content/drive')"
   ]
  },
  {
   "cell_type": "code",
   "execution_count": 16,
   "metadata": {
    "colab": {},
    "colab_type": "code",
    "id": "UbWQzS5wzBV9"
   },
   "outputs": [],
   "source": [
    "resposible_residue = 'K'\n",
    "directory = \"wakil.elm\""
   ]
  },
  {
   "cell_type": "code",
   "execution_count": 17,
   "metadata": {
    "colab": {},
    "colab_type": "code",
    "id": "Mf1oCsmFzBV_"
   },
   "outputs": [
    {
     "name": "stderr",
     "output_type": "stream",
     "text": [
      "/Users/wakilahmad/anaconda3/lib/python3.7/site-packages/ipykernel_launcher.py:1: FutureWarning: read_table is deprecated, use read_csv instead, passing sep='\\t'.\n",
      "  \"\"\"Entry point for launching an IPython kernel.\n"
     ]
    }
   ],
   "source": [
    "full_data = pd.read_table(directory)"
   ]
  },
  {
   "cell_type": "code",
   "execution_count": 18,
   "metadata": {
    "colab": {
     "base_uri": "https://localhost:8080/",
     "height": 359
    },
    "colab_type": "code",
    "id": "5x9Rv8aHzBWC",
    "outputId": "1cf850d0-dad8-4534-e24e-a489589ff57c"
   },
   "outputs": [
    {
     "data": {
      "text/html": [
       "<div>\n",
       "<style scoped>\n",
       "    .dataframe tbody tr th:only-of-type {\n",
       "        vertical-align: middle;\n",
       "    }\n",
       "\n",
       "    .dataframe tbody tr th {\n",
       "        vertical-align: top;\n",
       "    }\n",
       "\n",
       "    .dataframe thead th {\n",
       "        text-align: right;\n",
       "    }\n",
       "</style>\n",
       "<table border=\"1\" class=\"dataframe\">\n",
       "  <thead>\n",
       "    <tr style=\"text-align: right;\">\n",
       "      <th></th>\n",
       "      <th>PLMD ID</th>\n",
       "      <th>Uniprot Accession</th>\n",
       "      <th>Position</th>\n",
       "      <th>Type</th>\n",
       "      <th>Sequence</th>\n",
       "      <th>Species</th>\n",
       "      <th>PMIDs</th>\n",
       "    </tr>\n",
       "  </thead>\n",
       "  <tbody>\n",
       "    <tr>\n",
       "      <th>0</th>\n",
       "      <td>PLMD-4</td>\n",
       "      <td>O00139</td>\n",
       "      <td>161</td>\n",
       "      <td>Methylation</td>\n",
       "      <td>MATANFGKIQIGIYVEIKRSDGRIHQAMVTSLNEDNESVTVEWIEN...</td>\n",
       "      <td>Homo sapiens</td>\n",
       "      <td>23644510;25514926</td>\n",
       "    </tr>\n",
       "    <tr>\n",
       "      <th>1</th>\n",
       "      <td>PLMD-4</td>\n",
       "      <td>O00139</td>\n",
       "      <td>169</td>\n",
       "      <td>Methylation</td>\n",
       "      <td>MATANFGKIQIGIYVEIKRSDGRIHQAMVTSLNEDNESVTVEWIEN...</td>\n",
       "      <td>Homo sapiens</td>\n",
       "      <td>23644510;25514926</td>\n",
       "    </tr>\n",
       "    <tr>\n",
       "      <th>2</th>\n",
       "      <td>PLMD-9</td>\n",
       "      <td>O00159</td>\n",
       "      <td>383</td>\n",
       "      <td>Methylation</td>\n",
       "      <td>MALQVELVPTGEIIRVVHPHRPCKLALGSDGVRVTMESALTARDRV...</td>\n",
       "      <td>Homo sapiens</td>\n",
       "      <td>23161681</td>\n",
       "    </tr>\n",
       "    <tr>\n",
       "      <th>3</th>\n",
       "      <td>PLMD-20</td>\n",
       "      <td>O00193</td>\n",
       "      <td>179</td>\n",
       "      <td>Methylation</td>\n",
       "      <td>MSAARESHPHGVKRSASPDDDLGSSNWEAADLGNEERKQKFLRLMG...</td>\n",
       "      <td>Homo sapiens</td>\n",
       "      <td>25514926</td>\n",
       "    </tr>\n",
       "    <tr>\n",
       "      <th>4</th>\n",
       "      <td>PLMD-25</td>\n",
       "      <td>O00217</td>\n",
       "      <td>49</td>\n",
       "      <td>Methylation</td>\n",
       "      <td>MRCLTTPMLLRALAQAARAGPPGGRSLHSSAVAATYKYVNMQDPEM...</td>\n",
       "      <td>Homo sapiens</td>\n",
       "      <td>23748837</td>\n",
       "    </tr>\n",
       "    <tr>\n",
       "      <th>5</th>\n",
       "      <td>PLMD-40</td>\n",
       "      <td>O00257</td>\n",
       "      <td>249</td>\n",
       "      <td>Methylation</td>\n",
       "      <td>MELPAVGEHVFAVESIEKKRIRKGRVEYLVKWRGWSPKYNTWEPEE...</td>\n",
       "      <td>Homo sapiens</td>\n",
       "      <td>25514926</td>\n",
       "    </tr>\n",
       "    <tr>\n",
       "      <th>6</th>\n",
       "      <td>PLMD-64</td>\n",
       "      <td>O00411</td>\n",
       "      <td>28</td>\n",
       "      <td>Methylation</td>\n",
       "      <td>MSALCWGRGAAGLKRALRPCGRPGLPGKEGTAGGVCGPRRSSSASP...</td>\n",
       "      <td>Homo sapiens</td>\n",
       "      <td>23644510;25514926</td>\n",
       "    </tr>\n",
       "    <tr>\n",
       "      <th>7</th>\n",
       "      <td>PLMD-72</td>\n",
       "      <td>O00443</td>\n",
       "      <td>280</td>\n",
       "      <td>Methylation</td>\n",
       "      <td>MAQISSNSGFKECPSSHPEPTRAKDVDKEEALQMEAEALAKLQKDR...</td>\n",
       "      <td>Homo sapiens</td>\n",
       "      <td>25514926</td>\n",
       "    </tr>\n",
       "    <tr>\n",
       "      <th>8</th>\n",
       "      <td>PLMD-86</td>\n",
       "      <td>O00482</td>\n",
       "      <td>173</td>\n",
       "      <td>Methylation</td>\n",
       "      <td>MSSNSDTGDLQESLKHGLTPIGAGLPDRHGSPIPARGRLVMLPKVE...</td>\n",
       "      <td>Homo sapiens</td>\n",
       "      <td>25514926</td>\n",
       "    </tr>\n",
       "    <tr>\n",
       "      <th>9</th>\n",
       "      <td>PLMD-87</td>\n",
       "      <td>O00483</td>\n",
       "      <td>10</td>\n",
       "      <td>Methylation</td>\n",
       "      <td>MLRQIIGQAKKHPSLIPLFVFIGTGATGATLYLLRLALFNPDVCWD...</td>\n",
       "      <td>Homo sapiens</td>\n",
       "      <td>25514926</td>\n",
       "    </tr>\n",
       "  </tbody>\n",
       "</table>\n",
       "</div>"
      ],
      "text/plain": [
       "   PLMD ID Uniprot Accession  Position         Type  \\\n",
       "0   PLMD-4            O00139       161  Methylation   \n",
       "1   PLMD-4            O00139       169  Methylation   \n",
       "2   PLMD-9            O00159       383  Methylation   \n",
       "3  PLMD-20            O00193       179  Methylation   \n",
       "4  PLMD-25            O00217        49  Methylation   \n",
       "5  PLMD-40            O00257       249  Methylation   \n",
       "6  PLMD-64            O00411        28  Methylation   \n",
       "7  PLMD-72            O00443       280  Methylation   \n",
       "8  PLMD-86            O00482       173  Methylation   \n",
       "9  PLMD-87            O00483        10  Methylation   \n",
       "\n",
       "                                            Sequence       Species  \\\n",
       "0  MATANFGKIQIGIYVEIKRSDGRIHQAMVTSLNEDNESVTVEWIEN...  Homo sapiens   \n",
       "1  MATANFGKIQIGIYVEIKRSDGRIHQAMVTSLNEDNESVTVEWIEN...  Homo sapiens   \n",
       "2  MALQVELVPTGEIIRVVHPHRPCKLALGSDGVRVTMESALTARDRV...  Homo sapiens   \n",
       "3  MSAARESHPHGVKRSASPDDDLGSSNWEAADLGNEERKQKFLRLMG...  Homo sapiens   \n",
       "4  MRCLTTPMLLRALAQAARAGPPGGRSLHSSAVAATYKYVNMQDPEM...  Homo sapiens   \n",
       "5  MELPAVGEHVFAVESIEKKRIRKGRVEYLVKWRGWSPKYNTWEPEE...  Homo sapiens   \n",
       "6  MSALCWGRGAAGLKRALRPCGRPGLPGKEGTAGGVCGPRRSSSASP...  Homo sapiens   \n",
       "7  MAQISSNSGFKECPSSHPEPTRAKDVDKEEALQMEAEALAKLQKDR...  Homo sapiens   \n",
       "8  MSSNSDTGDLQESLKHGLTPIGAGLPDRHGSPIPARGRLVMLPKVE...  Homo sapiens   \n",
       "9  MLRQIIGQAKKHPSLIPLFVFIGTGATGATLYLLRLALFNPDVCWD...  Homo sapiens   \n",
       "\n",
       "               PMIDs  \n",
       "0  23644510;25514926  \n",
       "1  23644510;25514926  \n",
       "2           23161681  \n",
       "3           25514926  \n",
       "4           23748837  \n",
       "5           25514926  \n",
       "6  23644510;25514926  \n",
       "7           25514926  \n",
       "8           25514926  \n",
       "9           25514926  "
      ]
     },
     "execution_count": 18,
     "metadata": {},
     "output_type": "execute_result"
    }
   ],
   "source": [
    "full_data.head(10)"
   ]
  },
  {
   "cell_type": "code",
   "execution_count": 19,
   "metadata": {
    "colab": {
     "base_uri": "https://localhost:8080/",
     "height": 34
    },
    "colab_type": "code",
    "id": "FCRWBuRSzBWE",
    "outputId": "a574097a-99e2-40fc-bc37-e92520530486"
   },
   "outputs": [
    {
     "data": {
      "text/plain": [
       "(6323, 7)"
      ]
     },
     "execution_count": 19,
     "metadata": {},
     "output_type": "execute_result"
    }
   ],
   "source": [
    "full_data.shape"
   ]
  },
  {
   "cell_type": "code",
   "execution_count": 20,
   "metadata": {
    "colab": {},
    "colab_type": "code",
    "id": "LMEuQ0o-3gxk"
   },
   "outputs": [],
   "source": [
    "WINDOW_SIZE=20\n",
    "\n",
    "def get_pssm(protein, protein_sz, ind):\n",
    "  ret = ''\n",
    "  cnt = 0\n",
    "  for val in range(ind - WINDOW_SIZE, ind + WINDOW_SIZE + 1):\n",
    "      now = ''\n",
    "      if val < 0 or val >= protein_sz:\n",
    "        # distance = ind - val\n",
    "        # now = ind + distance\n",
    "        now = 'X'\n",
    "        cnt += 1\n",
    "      else:\n",
    "        now = protein[val]\n",
    "\n",
    "      ret += now\n",
    "\n",
    "  new_protein = protein[0: max(ind-WINDOW_SIZE, 0)] + ret + protein[min(protein_sz, ind+WINDOW_SIZE+1):]\n",
    "  return cnt, new_protein"
   ]
  },
  {
   "cell_type": "code",
   "execution_count": 21,
   "metadata": {
    "colab": {},
    "colab_type": "code",
    "id": "iVh-XgNp39w9"
   },
   "outputs": [],
   "source": [
    "res = []\n",
    "for ind, v in full_data.iterrows():\n",
    "  plmd = v['PLMD ID']\n",
    "  pos = v['Position'] - 1\n",
    "  seq = v['Sequence']\n",
    "  padX, padded = get_pssm(seq, len(seq), pos)\n",
    "  now = [plmd, pos, seq, padded, padX]\n",
    "  res.append(now)"
   ]
  },
  {
   "cell_type": "code",
   "execution_count": 22,
   "metadata": {
    "colab": {},
    "colab_type": "code",
    "id": "mIj06wdF6nLw"
   },
   "outputs": [],
   "source": [
    "padded_df = pd.DataFrame(res, columns=['PLMD ID', 'Position', 'Sequence', 'Padded Sequence', 'PadX Counter'])"
   ]
  },
  {
   "cell_type": "code",
   "execution_count": 23,
   "metadata": {
    "colab": {
     "base_uri": "https://localhost:8080/",
     "height": 204
    },
    "colab_type": "code",
    "id": "kzj41pDw6tF-",
    "outputId": "a74f9345-e54b-4484-af3d-102c96d23bce"
   },
   "outputs": [
    {
     "data": {
      "text/html": [
       "<div>\n",
       "<style scoped>\n",
       "    .dataframe tbody tr th:only-of-type {\n",
       "        vertical-align: middle;\n",
       "    }\n",
       "\n",
       "    .dataframe tbody tr th {\n",
       "        vertical-align: top;\n",
       "    }\n",
       "\n",
       "    .dataframe thead th {\n",
       "        text-align: right;\n",
       "    }\n",
       "</style>\n",
       "<table border=\"1\" class=\"dataframe\">\n",
       "  <thead>\n",
       "    <tr style=\"text-align: right;\">\n",
       "      <th></th>\n",
       "      <th>PLMD ID</th>\n",
       "      <th>Position</th>\n",
       "      <th>Sequence</th>\n",
       "      <th>Padded Sequence</th>\n",
       "      <th>PadX Counter</th>\n",
       "    </tr>\n",
       "  </thead>\n",
       "  <tbody>\n",
       "    <tr>\n",
       "      <th>0</th>\n",
       "      <td>PLMD-4</td>\n",
       "      <td>160</td>\n",
       "      <td>MATANFGKIQIGIYVEIKRSDGRIHQAMVTSLNEDNESVTVEWIEN...</td>\n",
       "      <td>MATANFGKIQIGIYVEIKRSDGRIHQAMVTSLNEDNESVTVEWIEN...</td>\n",
       "      <td>0</td>\n",
       "    </tr>\n",
       "    <tr>\n",
       "      <th>1</th>\n",
       "      <td>PLMD-4</td>\n",
       "      <td>168</td>\n",
       "      <td>MATANFGKIQIGIYVEIKRSDGRIHQAMVTSLNEDNESVTVEWIEN...</td>\n",
       "      <td>MATANFGKIQIGIYVEIKRSDGRIHQAMVTSLNEDNESVTVEWIEN...</td>\n",
       "      <td>0</td>\n",
       "    </tr>\n",
       "    <tr>\n",
       "      <th>2</th>\n",
       "      <td>PLMD-9</td>\n",
       "      <td>382</td>\n",
       "      <td>MALQVELVPTGEIIRVVHPHRPCKLALGSDGVRVTMESALTARDRV...</td>\n",
       "      <td>MALQVELVPTGEIIRVVHPHRPCKLALGSDGVRVTMESALTARDRV...</td>\n",
       "      <td>0</td>\n",
       "    </tr>\n",
       "    <tr>\n",
       "      <th>3</th>\n",
       "      <td>PLMD-20</td>\n",
       "      <td>178</td>\n",
       "      <td>MSAARESHPHGVKRSASPDDDLGSSNWEAADLGNEERKQKFLRLMG...</td>\n",
       "      <td>MSAARESHPHGVKRSASPDDDLGSSNWEAADLGNEERKQKFLRLMG...</td>\n",
       "      <td>16</td>\n",
       "    </tr>\n",
       "    <tr>\n",
       "      <th>4</th>\n",
       "      <td>PLMD-25</td>\n",
       "      <td>48</td>\n",
       "      <td>MRCLTTPMLLRALAQAARAGPPGGRSLHSSAVAATYKYVNMQDPEM...</td>\n",
       "      <td>MRCLTTPMLLRALAQAARAGPPGGRSLHSSAVAATYKYVNMQDPEM...</td>\n",
       "      <td>0</td>\n",
       "    </tr>\n",
       "  </tbody>\n",
       "</table>\n",
       "</div>"
      ],
      "text/plain": [
       "   PLMD ID  Position                                           Sequence  \\\n",
       "0   PLMD-4       160  MATANFGKIQIGIYVEIKRSDGRIHQAMVTSLNEDNESVTVEWIEN...   \n",
       "1   PLMD-4       168  MATANFGKIQIGIYVEIKRSDGRIHQAMVTSLNEDNESVTVEWIEN...   \n",
       "2   PLMD-9       382  MALQVELVPTGEIIRVVHPHRPCKLALGSDGVRVTMESALTARDRV...   \n",
       "3  PLMD-20       178  MSAARESHPHGVKRSASPDDDLGSSNWEAADLGNEERKQKFLRLMG...   \n",
       "4  PLMD-25        48  MRCLTTPMLLRALAQAARAGPPGGRSLHSSAVAATYKYVNMQDPEM...   \n",
       "\n",
       "                                     Padded Sequence  PadX Counter  \n",
       "0  MATANFGKIQIGIYVEIKRSDGRIHQAMVTSLNEDNESVTVEWIEN...             0  \n",
       "1  MATANFGKIQIGIYVEIKRSDGRIHQAMVTSLNEDNESVTVEWIEN...             0  \n",
       "2  MALQVELVPTGEIIRVVHPHRPCKLALGSDGVRVTMESALTARDRV...             0  \n",
       "3  MSAARESHPHGVKRSASPDDDLGSSNWEAADLGNEERKQKFLRLMG...            16  \n",
       "4  MRCLTTPMLLRALAQAARAGPPGGRSLHSSAVAATYKYVNMQDPEM...             0  "
      ]
     },
     "execution_count": 23,
     "metadata": {},
     "output_type": "execute_result"
    }
   ],
   "source": [
    "padded_df.head()"
   ]
  },
  {
   "cell_type": "code",
   "execution_count": 24,
   "metadata": {},
   "outputs": [
    {
     "data": {
      "text/html": [
       "<div>\n",
       "<style scoped>\n",
       "    .dataframe tbody tr th:only-of-type {\n",
       "        vertical-align: middle;\n",
       "    }\n",
       "\n",
       "    .dataframe tbody tr th {\n",
       "        vertical-align: top;\n",
       "    }\n",
       "\n",
       "    .dataframe thead th {\n",
       "        text-align: right;\n",
       "    }\n",
       "</style>\n",
       "<table border=\"1\" class=\"dataframe\">\n",
       "  <thead>\n",
       "    <tr style=\"text-align: right;\">\n",
       "      <th></th>\n",
       "      <th>PLMD ID</th>\n",
       "      <th>Position</th>\n",
       "      <th>Sequence</th>\n",
       "      <th>Padded Sequence</th>\n",
       "      <th>PadX Counter</th>\n",
       "    </tr>\n",
       "  </thead>\n",
       "  <tbody>\n",
       "    <tr>\n",
       "      <th>6318</th>\n",
       "      <td>PLMD-51997</td>\n",
       "      <td>96</td>\n",
       "      <td>XHPVAVASKKRKKPSRPAKTRKRQVGPQSGEVRKEAPRDETKADTD...</td>\n",
       "      <td>XHPVAVASKKRKKPSRPAKTRKRQVGPQSGEVRKEAPRDETKADTD...</td>\n",
       "      <td>0</td>\n",
       "    </tr>\n",
       "    <tr>\n",
       "      <th>6319</th>\n",
       "      <td>PLMD-52012</td>\n",
       "      <td>1931</td>\n",
       "      <td>MPQRATLLDLSESSAPNLADADDRKWIPPQRSRPILPGPQVLAAMS...</td>\n",
       "      <td>MPQRATLLDLSESSAPNLADADDRKWIPPQRSRPILPGPQVLAAMS...</td>\n",
       "      <td>0</td>\n",
       "    </tr>\n",
       "    <tr>\n",
       "      <th>6320</th>\n",
       "      <td>PLMD-52012</td>\n",
       "      <td>1933</td>\n",
       "      <td>MPQRATLLDLSESSAPNLADADDRKWIPPQRSRPILPGPQVLAAMS...</td>\n",
       "      <td>MPQRATLLDLSESSAPNLADADDRKWIPPQRSRPILPGPQVLAAMS...</td>\n",
       "      <td>0</td>\n",
       "    </tr>\n",
       "    <tr>\n",
       "      <th>6321</th>\n",
       "      <td>PLMD-52012</td>\n",
       "      <td>1944</td>\n",
       "      <td>MPQRATLLDLSESSAPNLADADDRKWIPPQRSRPILPGPQVLAAMS...</td>\n",
       "      <td>MPQRATLLDLSESSAPNLADADDRKWIPPQRSRPILPGPQVLAAMS...</td>\n",
       "      <td>0</td>\n",
       "    </tr>\n",
       "    <tr>\n",
       "      <th>6322</th>\n",
       "      <td>PLMD-52160</td>\n",
       "      <td>185</td>\n",
       "      <td>MFRLNSLSALAELAVGSRWYHGGSQPIQIRRRLMMVAFLGASAVTA...</td>\n",
       "      <td>MFRLNSLSALAELAVGSRWYHGGSQPIQIRRRLMMVAFLGASAVTA...</td>\n",
       "      <td>0</td>\n",
       "    </tr>\n",
       "  </tbody>\n",
       "</table>\n",
       "</div>"
      ],
      "text/plain": [
       "         PLMD ID  Position                                           Sequence  \\\n",
       "6318  PLMD-51997        96  XHPVAVASKKRKKPSRPAKTRKRQVGPQSGEVRKEAPRDETKADTD...   \n",
       "6319  PLMD-52012      1931  MPQRATLLDLSESSAPNLADADDRKWIPPQRSRPILPGPQVLAAMS...   \n",
       "6320  PLMD-52012      1933  MPQRATLLDLSESSAPNLADADDRKWIPPQRSRPILPGPQVLAAMS...   \n",
       "6321  PLMD-52012      1944  MPQRATLLDLSESSAPNLADADDRKWIPPQRSRPILPGPQVLAAMS...   \n",
       "6322  PLMD-52160       185  MFRLNSLSALAELAVGSRWYHGGSQPIQIRRRLMMVAFLGASAVTA...   \n",
       "\n",
       "                                        Padded Sequence  PadX Counter  \n",
       "6318  XHPVAVASKKRKKPSRPAKTRKRQVGPQSGEVRKEAPRDETKADTD...             0  \n",
       "6319  MPQRATLLDLSESSAPNLADADDRKWIPPQRSRPILPGPQVLAAMS...             0  \n",
       "6320  MPQRATLLDLSESSAPNLADADDRKWIPPQRSRPILPGPQVLAAMS...             0  \n",
       "6321  MPQRATLLDLSESSAPNLADADDRKWIPPQRSRPILPGPQVLAAMS...             0  \n",
       "6322  MFRLNSLSALAELAVGSRWYHGGSQPIQIRRRLMMVAFLGASAVTA...             0  "
      ]
     },
     "execution_count": 24,
     "metadata": {},
     "output_type": "execute_result"
    }
   ],
   "source": [
    "padded_df.tail()"
   ]
  },
  {
   "cell_type": "code",
   "execution_count": 25,
   "metadata": {
    "colab": {},
    "colab_type": "code",
    "id": "PXfo5G0ByXyL"
   },
   "outputs": [],
   "source": [
    "f= open(\"protein.fasta\",\"w+\")\n",
    "\n",
    "for index, row in padded_df.iterrows():\n",
    "  protein = row['PLMD ID']\n",
    "  seq = row['Padded Sequence']\n",
    "  f.write(\">\" + protein + \"\\n\"+ seq +\"\\n\")\n",
    "\n",
    "f.close()"
   ]
  },
  {
   "cell_type": "code",
   "execution_count": 26,
   "metadata": {
    "colab": {},
    "colab_type": "code",
    "id": "imLXOVEazBWV"
   },
   "outputs": [],
   "source": [
    "f= open(\"protein_counter.fasta\",\"w+\")\n",
    "\n",
    "for index, row in padded_df.iterrows():\n",
    "  protein = row['PLMD ID']\n",
    "  seq = row['Padded Sequence']\n",
    "  count = row['PadX Counter']\n",
    "  f.write(\">\" + protein + \" \" + str(count) + \"\\n\"+ seq +\"\\n\")\n",
    "\n",
    "f.close()"
   ]
  },
  {
   "cell_type": "code",
   "execution_count": null,
   "metadata": {},
   "outputs": [],
   "source": []
  }
 ],
 "metadata": {
  "colab": {
   "collapsed_sections": [],
   "name": "methylation.ipynb",
   "provenance": []
  },
  "kernelspec": {
   "display_name": "Python 3",
   "language": "python",
   "name": "python3"
  },
  "language_info": {
   "codemirror_mode": {
    "name": "ipython",
    "version": 3
   },
   "file_extension": ".py",
   "mimetype": "text/x-python",
   "name": "python",
   "nbconvert_exporter": "python",
   "pygments_lexer": "ipython3",
   "version": "3.7.3"
  }
 },
 "nbformat": 4,
 "nbformat_minor": 1
}
